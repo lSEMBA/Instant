{
  "nbformat": 4,
  "nbformat_minor": 0,
  "metadata": {
    "colab": {
      "provenance": []
    },
    "kernelspec": {
      "name": "python3",
      "display_name": "Python 3"
    },
    "language_info": {
      "name": "python"
    }
  },
  "cells": [
    {
      "cell_type": "code",
      "execution_count": 47,
      "metadata": {
        "id": "3NuPgywVVT-X",
        "colab": {
          "base_uri": "https://localhost:8080/"
        },
        "outputId": "266e307a-b0d2-4e6e-8897-6ff46531f621"
      },
      "outputs": [
        {
          "output_type": "stream",
          "name": "stdout",
          "text": [
            "0\n",
            "1\n", 
            "2\n",
            "3\n", 
            "4\n",
            "5\n",
            "6\n",
            "7\n", 
            "8\n",
            "9\n", 
            "10\n"
          ]
        }
      ],
      "source": [
        "x = 0\n",
        "while True :\n",
        "\n",
        "\n",
        "  print (x)\n",
        "    x += 1\n",
        "\n",
        "\n",
        "\n",
        "  if not (x <= 10) :\n",
        "    break\n",
        "\n"
        
      ]
    }
  ]
}
