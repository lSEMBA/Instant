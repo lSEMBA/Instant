{
  "nbformat": 4,
  "nbformat_minor": 0,
  "metadata": {
    "colab": {
      "provenance": []
    },
    "kernelspec": {
      "name": "python3",
      "display_name": "Python 3"
    },
    "language_info": {
      "name": "python"
    }
  },
  "cells": [
    {
      "cell_type": "code",
      "execution_count": 164,
      "metadata": {
        "id": "vs_SU3ng0tbN",
        "colab": {
          "base_uri": "https://localhost:8080/"
        },
        "outputId": "4058ffb0-edd1-463f-eb8f-1b12182a0500"
      },
      "outputs": [
        {
          "output_type": "stream",
          "name": "stdout",
          "text": [
            "My Name is Salah Bairouti\n"
          ]
        }
      ],
      "source": [
        "Capital = \"ABCDEFGHIJKLMNOPQRSTUVWXYZ\"\n",
        "Small = \"abcdefghijklmnopqrstuvwxyz \"\n",
        "numname = [-8 , 0, 11, 0, 7, -1, 1, 0, 8, -10 ,14, -7, -8, 8]\n",
        "name = \"\"\n",
        "for i in range(len(numname)):\n",
        "  if i == 0 or i == 6:\n",
        "    name += Capital[numname[i]]\n",
        "  else :\n",
        "    name += Small[numname[i]]\n",
        "print(f\"My Name is {name}\")\n"
      ]
    },
    {
      "cell_type": "markdown",
      "source": [
        "\n",
        "# **WAP to enter a number from user and print its absolute value.**"
      ],
      "metadata": {
        "id": "MnWAiH2o0zSa"
      }
    },
    {
      "cell_type": "code",
      "source": [
        "Number = int(input(\"Enter the number: \"))\n",
        "if Number < 0 :\n",
        "  for i in range(Number , 0):\n",
        "    Number += 2\n",
        "print(f\"this is absolute value: {Number}\")"
      ],
      "metadata": {
        "id": "l3oLMLbk02Pj",
        "colab": {
          "base_uri": "https://localhost:8080/"
        },
        "outputId": "82990bf0-287e-43f9-f1f4-e6efd42de784"
      },
      "execution_count": 21,
      "outputs": [
        {
          "output_type": "stream",
          "name": "stdout",
          "text": [
            "Enter the number: -10\n",
            "this is absolute value: 10\n"
          ]
        }
      ]
    },
    {
      "cell_type": "markdown",
      "source": [
        "# **WAP to enter a year from user and check if it is leap year or not.**"
      ],
      "metadata": {
        "id": "pOnjNwNx03Tr"
      }
    },
    {
      "cell_type": "code",
      "source": [
        "year = int(input(\"Enter the number: \"))\n",
        "if (year % 4 == 0 and year % 100 != 0) or (year % 400 == 0):\n",
        "  print(f\"this year {year} is leap year\")\n",
        "else:\n",
        "  print(f\"this year {year} is not leap year\")"
      ],
      "metadata": {
        "id": "4PEtUTm51H6x",
        "colab": {
          "base_uri": "https://localhost:8080/"
        },
        "outputId": "98ae1d86-c28c-459a-c9a4-ebcb69a551b4"
      },
      "execution_count": 28,
      "outputs": [
        {
          "output_type": "stream",
          "name": "stdout",
          "text": [
            "Enter the number: 404\n",
            "this year 404 is leap year\n"
          ]
        }
      ]
    },
    {
      "cell_type": "markdown",
      "source": [
        "# **WAP to enter the age of 3 person and print oldest and yougest among them.**"
      ],
      "metadata": {
        "id": "sn-NADUn1VGn"
      }
    },
    {
      "cell_type": "code",
      "source": [
        "age1 = int(input(\"Enter the 1st age: \"))\n",
        "age2 = int(input(\"Enter the 2st age: \"))\n",
        "age3 = int(input(\"Enter the 3st age: \"))\n",
        "\n",
        "if age1 > age2 and age1 > age3 :\n",
        "  print(f\"this age {age1} is oldest\")\n",
        "  if age2 > age3 :\n",
        "    print(f\"1st age {age3} is youngest\")\n",
        "  else:\n",
        "    print(f\"2st age {age2} is youngest\")\n",
        "\n",
        "elif age3 > age1 and age3 > age2 :\n",
        "  print(f\"3st age {age3} is oldest\")\n",
        "  if age1 > age2 :\n",
        "    print(f\"2st age {age2} is youngest\")\n",
        "  else:\n",
        "    print(f\"this 1st age {age1} is youngest\")\n",
        "elif age2 > age1 and age2 > age3 :\n",
        "  print(f\"2st age {age2} is oldest\")\n",
        "  if age1 > age3 :\n",
        "    print(f\"3st age {age3} is youngest\")\n",
        "  else:\n",
        "    print(f\"1st age {age1} is youngest\")\n"
      ],
      "metadata": {
        "id": "uNGWS1AT1cYP",
        "colab": {
          "base_uri": "https://localhost:8080/"
        },
        "outputId": "2ca8a90b-6b1f-49d2-9c91-dce32d2ce1f4"
      },
      "execution_count": 46,
      "outputs": [
        {
          "output_type": "stream",
          "name": "stdout",
          "text": [
            "Enter the 1st age: 5\n",
            "Enter the 2st age: 15\n",
            "Enter the 3st age: 10\n",
            "2st age 15 is oldest\n",
            "1st age 5 is youngest\n"
          ]
        }
      ]
    },
    {
      "cell_type": "markdown",
      "source": [
        "# **Write a program that asks the user to enter a series of numbers. The program should ask for numbers until the user enters a negative number. Once the user enters a negative number, the program should stop and print the sum of all the positive numbers entered**\n",
        "# **Example**\n",
        "# **Enter a number: 5**\n",
        "# **Enter a number: 8**\n",
        "# **Enter a number: 12**\n",
        "# **Enter a number: -2**\n",
        "# **The sum of the positive numbers is 25.**"
      ],
      "metadata": {
        "id": "XFRRNGVj1dEw"
      }
    },
    {
      "cell_type": "code",
      "source": [
        "sum = 0\n",
        "for i in range(100) : #If we want to use a four loop, we put a large range.\n",
        "  number = int(input(\"Enter the nuber: \"))\n",
        "  if number >= 0:\n",
        "    sum = sum + number\n",
        "  else:\n",
        "    break\n",
        "print(f\"this is sum all the positive numbers entered: {sum}\")"
      ],
      "metadata": {
        "id": "ijp9SzHu2A3p",
        "colab": {
          "base_uri": "https://localhost:8080/"
        },
        "outputId": "75003cb7-bd37-4b45-9483-fe6455515b3c"
      },
      "execution_count": 64,
      "outputs": [
        {
          "output_type": "stream",
          "name": "stdout",
          "text": [
            "Enter the nuber: 5\n",
            "Enter the nuber: 15\n",
            "Enter the nuber: 20\n",
            "Enter the nuber: 40\n",
            "Enter the nuber: -1\n",
            "this is sum all the positive numbers entered: 80\n"
          ]
        }
      ]
    },
    {
      "cell_type": "code",
      "source": [
        "#while loop\n",
        "sum = 0\n",
        "while True :\n",
        "  number = int(input(\"Enter the nuber: \"))\n",
        "  if number >= 0:\n",
        "    sum = sum + number\n",
        "  else:\n",
        "    break\n",
        "print(f\"this is sum all the positive numbers entered: {sum}\")"
      ],
      "metadata": {
        "colab": {
          "base_uri": "https://localhost:8080/"
        },
        "id": "Ha8ssWuDJ3BV",
        "outputId": "29a3efcb-e8be-41db-c1e0-6c05d6d4199f"
      },
      "execution_count": 65,
      "outputs": [
        {
          "output_type": "stream",
          "name": "stdout",
          "text": [
            "Enter the nuber: 5\n",
            "Enter the nuber: 15\n",
            "Enter the nuber: 20\n",
            "Enter the nuber: 25\n",
            "Enter the nuber: 30\n",
            "Enter the nuber: -1\n",
            "this is sum all the positive numbers entered: 95\n"
          ]
        }
      ]
    },
    {
      "cell_type": "markdown",
      "source": [
        "# **Write a program that asks the user to enter their name and age. The program should check if the user's age is greater than or equal to 18. If it is, the program should print a message saying they are eligible to vote. Otherwise, the program should print a message saying they are not eligible to vote due to being underage.**"
      ],
      "metadata": {
        "id": "oODCHUj62DxA"
      }
    },
    {
      "cell_type": "code",
      "source": [
        "name = input(\"Enter your name: \")\n",
        "age = int(input(\"Enter your age: \"))\n",
        "if age >= 18 :\n",
        "  print(f\"{name}, you are eligible to vote.\")\n",
        "else :\n",
        "  print(f\"{name}, you are not eligible to vote because your age {age} and he is under 18.\")\n"
      ],
      "metadata": {
        "id": "Svls1cLA2JVA",
        "colab": {
          "base_uri": "https://localhost:8080/"
        },
        "outputId": "994ff8a1-68c4-4e44-e0e1-4895b90b27d7"
      },
      "execution_count": 69,
      "outputs": [
        {
          "output_type": "stream",
          "name": "stdout",
          "text": [
            "Enter your name: hamada\n",
            "Enter your age: 14\n",
            "hamada are not eligible to vote because you are 14 and he is under 18.\n"
          ]
        }
      ]
    },
    {
      "cell_type": "markdown",
      "source": [
        "\n",
        "\n",
        "\n",
        "\n",
        "# **Write a Python Program to Find the Factorial of a Number**"
      ],
      "metadata": {
        "id": "2y5o5SqL3nvL"
      }
    },
    {
      "cell_type": "code",
      "source": [
        "num = int(input(\"Enter the number to find the Factorial number: \"))\n",
        "if num >= 0 :\n",
        "  if num > 0 :\n",
        "    Factorialnum = 1\n",
        "    for i in range(1, num + 1):\n",
        "      Factorialnum *= i\n",
        "    print(f\"The Factorial number is: {Factorialnum}\")\n",
        "\n",
        "  else :\n",
        "    print(\"The Factorial number is: 1\")\n",
        "\n"
      ],
      "metadata": {
        "id": "Q_v3ns1D3tgy",
        "colab": {
          "base_uri": "https://localhost:8080/"
        },
        "outputId": "26920f47-f982-49e6-c6f7-8c7da5c6ff26"
      },
      "execution_count": 158,
      "outputs": [
        {
          "output_type": "stream",
          "name": "stdout",
          "text": [
            "Enter the number to find the Factorial number: 5\n",
            "The Factorial number is: 120\n"
          ]
        }
      ]
    }
  ]
}
