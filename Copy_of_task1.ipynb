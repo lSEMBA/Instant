{
  "nbformat": 4,
  "nbformat_minor": 0,
  "metadata": {
    "colab": {
      "provenance": []
    },
    "kernelspec": {
      "name": "python3",
      "display_name": "Python 3"
    },
    "language_info": {
      "name": "python"
    }
  },
  "cells": [
    {
      "cell_type": "code",
      "execution_count": 47,
      "metadata": {
        "id": "3NuPgywVVT-X",
        "colab": {
          "base_uri": "https://localhost:8080/"
        },
        "outputId": "266e307a-b0d2-4e6e-8897-6ff46531f621"
      },
      "outputs": [
        {
          "output_type": "stream",
          "name": "stdout",
          "text": [
            "My Name is Salah Bairouti\n"
          ]
        }
      ],
      "source": [
        "if 5 % 2 != 0 :\n",
        "  Name = \"S\"\n",
        "if 2 ** 2 == 2 * 2 :\n",
        "  Name = Name[0:len(Name)] + 'a'\n",
        "if type(Name) == str :\n",
        "  Name = Name[0:len(Name)] + 'l'\n",
        "if bool(type(Name) != type(4)):\n",
        "  Name = Name[0:len(Name)] + 'h'\n",
        "if not bool(type(Name) == type(4)):\n",
        "  Name = Name[0:len(Name)-1] + 'a' + Name[-1]\n",
        "if int(7.5) != 7.5:\n",
        "  Name = Name[0:len(Name)] + ' '\n",
        "if float(7.5) == 7.5:\n",
        "  Name = Name[0:len(Name)] + 'B'\n",
        "if bool(type(Name) != type(4)) or not True:\n",
        "  Name = Name[0:len(Name)] + 'a'\n",
        "if bool(type(Name) != type(4)) and True:\n",
        "  Name = Name[0:len(Name)] + 'i'\n",
        "if int(7.5) >= 7:\n",
        "  Name = Name[0:len(Name)] + 'r'\n",
        "if 7 & 2 == 2:\n",
        "  Name = Name[0:len(Name)] + 'o'\n",
        "if bool(7) or not True:\n",
        "  Name = Name[0:len(Name)] + 'u'\n",
        "if not (bool(0) and True):\n",
        "  Name = Name[0:len(Name)] + 't'\n",
        "if '5'+'5' != 10:\n",
        "  Name = Name[0:len(Name)] + 'i'\n",
        "\n",
        "print(f\"My Name is {Name}\")"
      ]
    },
    {
      "cell_type": "markdown",
      "source": [
        "## **1- Write a Python program to find the area of a triangle**"
      ],
      "metadata": {
        "id": "yGQ0PxZIWP0v"
      }
    },
    {
      "cell_type": "code",
      "source": [
        "base = int(input(\"Enter the base: \"))\n",
        "hieght = int(input(\"Enter the hieght: \"))\n",
        "area = 0.5*base*hieght\n",
        "print(f\"this area: {area}\")"
      ],
      "metadata": {
        "id": "fVEa_BPoWYPd",
        "colab": {
          "base_uri": "https://localhost:8080/"
        },
        "outputId": "15ccdeb6-7d6c-4f22-be4d-b3e37373a17b"
      },
      "execution_count": null,
      "outputs": [
        {
          "output_type": "stream",
          "name": "stdout",
          "text": [
            "Enter the base: 5\n",
            "Enter the hieght: 3\n",
            "this area: 7.5\n"
          ]
        }
      ]
    },
    {
      "cell_type": "markdown",
      "source": [
        "# **2- Write a Python program to swap two variables.**\n"
      ],
      "metadata": {
        "id": "3DD6RrL1Wa65"
      }
    },
    {
      "cell_type": "code",
      "source": [
        "A = 75\n",
        "B = 57\n",
        "A += B\n",
        "B = A - B\n",
        "A -= B\n",
        "print(A)\n",
        "print(B)"
      ],
      "metadata": {
        "id": "8A-qk-XGWmrK",
        "colab": {
          "base_uri": "https://localhost:8080/"
        },
        "outputId": "f50c0860-da13-4499-fe65-bc99031e4e51"
      },
      "execution_count": null,
      "outputs": [
        {
          "output_type": "stream",
          "name": "stdout",
          "text": [
            "57\n",
            "75\n"
          ]
        }
      ]
    },
    {
      "cell_type": "markdown",
      "source": [
        "# **3-Write a Python program to enter a number from user and convert this number from kilometers to miles.**\n"
      ],
      "metadata": {
        "id": "NXzXheUIXDEf"
      }
    },
    {
      "cell_type": "code",
      "source": [
        "distance = float(input(\"Enter The distance in Kilometers: \"))\n",
        "distance /= 1.60934\n",
        "print(f\"This the distance in mile: {distance}\")"
      ],
      "metadata": {
        "id": "-hO2ACQCX8xA",
        "colab": {
          "base_uri": "https://localhost:8080/"
        },
        "outputId": "d759cd3c-5a35-43d0-d322-52913f7955ce"
      },
      "execution_count": null,
      "outputs": [
        {
          "output_type": "stream",
          "name": "stdout",
          "text": [
            "Enter The distance: 286\n",
            "This the distance mile: 177.71260268184474\n"
          ]
        }
      ]
    }
  ]
}