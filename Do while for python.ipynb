{
  "nbformat": 4,
  "nbformat_minor": 0,
  "metadata": {
    "colab": {
      "provenance": []
    },
    "kernelspec": {
      "name": "python3",
      "display_name": "Python 3"
    },
    "language_info": {
      "name": "python"
    }
  },
  "cells": [
    {
      "cell_type": "code",
      "execution_count": 47,
      "metadata": {
        "id": "3NuPgywVVT-X",
        "colab": {
          "base_uri": "https://localhost:8080/"
        },
        "outputId": "266e307a-b0d2-4e6e-8897-6ff46531f621"
      },
      "outputs": [
        {
          "output_type": "stream",
          "name": "stdout",
          "text": [
            "My Name is Salah Bairouti\n"
          ]
        }
      ],
      "source": [
        "if 5 % 2 != 0 :\n",
        "  Name = \"S\"\n",
        "if 2 ** 2 == 2 * 2 :\n",
        "  Name = Name[0:len(Name)] + 'a'\n",
        "if type(Name) == str :\n",
        "  Name = Name[0:len(Name)] + 'l'\n",
        "if bool(type(Name) != type(4)):\n",
        "  Name = Name[0:len(Name)] + 'h'\n",
        "if not bool(type(Name) == type(4)):\n",
        "  Name = Name[0:len(Name)-1] + 'a' + Name[-1]\n",
        "if int(7.5) != 7.5:\n",
        "  Name = Name[0:len(Name)] + ' '\n",
        "if float(7.5) == 7.5:\n",
        "  Name = Name[0:len(Name)] + 'B'\n",
        "if bool(type(Name) != type(4)) or not True:\n",
        "  Name = Name[0:len(Name)] + 'a'\n",
        "if bool(type(Name) != type(4)) and True:\n",
        "  Name = Name[0:len(Name)] + 'i'\n",
        "if int(7.5) >= 7:\n",
        "  Name = Name[0:len(Name)] + 'r'\n",
        "if 7 & 2 == 2:\n",
        "  Name = Name[0:len(Name)] + 'o'\n",
        "if bool(7) or not True:\n",
        "  Name = Name[0:len(Name)] + 'u'\n",
        "if not (bool(0) and True):\n",
        "  Name = Name[0:len(Name)] + 't'\n",
        "if '5'+'5' != 10:\n",
        "  Name = Name[0:len(Name)] + 'i'\n",
        "\n",
        "print(f\"My Name is {Name}\")"
      ]
    }
  ]
}
