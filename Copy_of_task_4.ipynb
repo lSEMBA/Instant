{
  "cells": [
    {
      "cell_type": "markdown",
      "id": "759d04ba",
      "metadata": {
        "id": "759d04ba"
      },
      "source": [
        "**1-Write a Python program to calculate the length of a string using 2 ways"
      ]
    },
    {
      "cell_type": "code",
      "execution_count": null,
      "id": "e434c950",
      "metadata": {
        "id": "e434c950",
        "colab": {
          "base_uri": "https://localhost:8080/"
        },
        "outputId": "4aa7c469-1c3b-48a6-d690-2a505b38af3e"
      },
      "outputs": [
        {
          "output_type": "stream",
          "name": "stdout",
          "text": [
            "Enter any String: Salah Bairouti\n",
            "length of a String: 14\n"
          ]
        }
      ],
      "source": [
        "string = input(\"Enter any String: \")\n",
        "print(f\"length of a String: {len(string)}\")"
      ]
    },
    {
      "cell_type": "code",
      "execution_count": null,
      "id": "7a2dfa32",
      "metadata": {
        "id": "7a2dfa32",
        "colab": {
          "base_uri": "https://localhost:8080/"
        },
        "outputId": "b2b40dbb-4647-48c1-f794-5bc1aeef95de"
      },
      "outputs": [
        {
          "output_type": "stream",
          "name": "stdout",
          "text": [
            "Enter any String: Salah Bairouti\n",
            "14\n"
          ]
        }
      ],
      "source": [
        "string = input(\"Enter any String: \")\n",
        "length = 0\n",
        "for i in string:\n",
        "  length += 1\n",
        "print(length)"
      ]
    },
    {
      "cell_type": "markdown",
      "id": "d7cc9da7",
      "metadata": {
        "id": "d7cc9da7"
      },
      "source": [
        "**2-Write a Python program to get a string made of the first 2 and last 2 characters of a given string. If the string length is less than 2, return the empty string instead (\"##Sample String : 'w3resource'\n",
        "Expected Result : 'w3ce'\n",
        "##Sample String : 'w3'\n",
        "Expected Result : 'w3w3'\n",
        "##Sample String : ' w'\n",
        "Expected Result : Empty String)"
      ]
    },
    {
      "cell_type": "code",
      "execution_count": null,
      "id": "dafa9dd8",
      "metadata": {
        "id": "dafa9dd8",
        "colab": {
          "base_uri": "https://localhost:8080/"
        },
        "outputId": "04daaf75-0e9a-4da7-8241-b3f2781267dd"
      },
      "outputs": [
        {
          "output_type": "stream",
          "name": "stdout",
          "text": [
            "Enter any String: w3resource\n",
            "w3ce\n",
            "Enter any String: w3\n",
            "w3w3\n",
            "Enter any String: w\n",
            "\n"
          ]
        }
      ],
      "source": [
        "def string_made(string):\n",
        "  if len(string) < 2 :\n",
        "    return \"\"\n",
        "  Result = string[0:2] + string[-2:]\n",
        "  return Result\n",
        "print(string_made(string = input(\"Enter any String: \")))\n",
        "print(string_made(string = input(\"Enter any String: \")))\n",
        "print(string_made(string = input(\"Enter any String: \")))\n",
        "\n"
      ]
    },
    {
      "cell_type": "markdown",
      "id": "1534f956",
      "metadata": {
        "id": "1534f956"
      },
      "source": [
        "**3-Write a Python program to add 'ing' at the end of a given string (length should be at least 3). If the given string already ends with 'ing', add 'ly' instead. If the string length of the given string is less than 3, leave it unchanged. (Sample String : 'abc'\n",
        "Expected Result : 'abcing')"
      ]
    },
    {
      "cell_type": "code",
      "execution_count": null,
      "id": "7ff8cec4",
      "metadata": {
        "id": "7ff8cec4",
        "colab": {
          "base_uri": "https://localhost:8080/"
        },
        "outputId": "4afd15bf-80be-403b-c70f-89c6af6dfc01"
      },
      "outputs": [
        {
          "output_type": "stream",
          "name": "stdout",
          "text": [
            "Enter any String: abc\n",
            "abcing\n",
            "Enter any String: ing\n",
            "ingly\n",
            "Enter any String: abcing\n",
            "abcingly\n"
          ]
        }
      ],
      "source": [
        "def string_add(string):\n",
        "  if len(string) > 2 :\n",
        "    if string[-3:] == 'ing':\n",
        "      Result = string[0:] + \"ly\"\n",
        "      return Result\n",
        "    else:\n",
        "      Result = string[0:] + \"ing\"\n",
        "      return Result\n",
        "print(string_add(string = input(\"Enter any String: \")))\n",
        "print(string_add(string = input(\"Enter any String: \")))\n",
        "print(string_add(string = input(\"Enter any String: \")))"
      ]
    },
    {
      "cell_type": "markdown",
      "id": "1c0a6627",
      "metadata": {
        "id": "1c0a6627"
      },
      "source": [
        "**4-Write a Python function that takes a list of words and return the longest word and the length of the longest one\n",
        "(Longest word: Exercises\n",
        "Length of the longest word: 9)"
      ]
    },
    {
      "cell_type": "code",
      "execution_count": null,
      "id": "397341d9",
      "metadata": {
        "id": "397341d9",
        "colab": {
          "base_uri": "https://localhost:8080/"
        },
        "outputId": "35fa0066-511c-4e00-e80a-454f16ffdb58"
      },
      "outputs": [
        {
          "output_type": "stream",
          "name": "stdout",
          "text": [
            "Enter a string of words separated by a space: Python Exercises Practice Code\n",
            "This is the longest (Exercises) word with '9' letters\n"
          ]
        }
      ],
      "source": [
        "def length_word(words) :\n",
        "  longest = 0\n",
        "  LongestWord = \"\"\n",
        "  for i in words :\n",
        "    if len(i) > longest:\n",
        "      LongestWord = i\n",
        "      longest = len(i)\n",
        "  return LongestWord ,longest\n",
        "LongestWord ,longest = length_word(words = input(\"Enter a string of words separated by a space: \").split())\n",
        "print(f\"This is the longest ({LongestWord}) word with '{longest}' letters\")"
      ]
    },
    {
      "cell_type": "markdown",
      "id": "53a03a6a",
      "metadata": {
        "id": "53a03a6a"
      },
      "source": [
        "**5-Write a Python program to change a given string to a newly string where the first and last chars have been exchanged using 2 ways (Sample String:abca  Expected Result:ebce)"
      ]
    },
    {
      "cell_type": "code",
      "execution_count": null,
      "id": "fd327d2a",
      "metadata": {
        "id": "fd327d2a",
        "colab": {
          "base_uri": "https://localhost:8080/"
        },
        "outputId": "b967e9c6-b0b9-4c7e-dba0-b83c5342f5ad"
      },
      "outputs": [
        {
          "output_type": "stream",
          "name": "stdout",
          "text": [
            "ebce\n"
          ]
        }
      ],
      "source": [
        "string = \"abca\"\n",
        "if len(string) >= 2 and string[0] == string[-1]:\n",
        "  string = 'e' + string[1:-1] + 'e'\n",
        "print(string)"
      ]
    },
    {
      "cell_type": "code",
      "execution_count": null,
      "id": "285788b4",
      "metadata": {
        "id": "285788b4",
        "colab": {
          "base_uri": "https://localhost:8080/"
        },
        "outputId": "f3ae090b-8829-425d-fe1d-adc1886be5b7"
      },
      "outputs": [
        {
          "output_type": "stream",
          "name": "stdout",
          "text": [
            "ebce\n"
          ]
        }
      ],
      "source": [
        "def Change_similar_first_last_letters(string):\n",
        "  if len(string) < 2 and string[0] != string[-1]:\n",
        "    return string\n",
        "  return 'e' + string[1:-1] + 'e'\n",
        "Result = Change_similar_first_last_letters(\"abca\")\n",
        "print(Result)"
      ]
    },
    {
      "cell_type": "markdown",
      "id": "25f89808",
      "metadata": {
        "id": "25f89808"
      },
      "source": [
        "**6-Write a Python program to remove characters that have odd index values in a given string (Sample String:abca Expected Result:ac)"
      ]
    },
    {
      "cell_type": "code",
      "execution_count": null,
      "id": "05959bd7",
      "metadata": {
        "id": "05959bd7",
        "colab": {
          "base_uri": "https://localhost:8080/"
        },
        "outputId": "5295aa4c-8f4b-4256-ef62-0fd0b35549ee"
      },
      "outputs": [
        {
          "output_type": "stream",
          "name": "stdout",
          "text": [
            "Sample String: abca\n",
            "Expected Result: ac\n"
          ]
        }
      ],
      "source": [
        "string = input(\"Sample String: \")\n",
        "print(f\"Expected Result: {string[::2]}\")"
      ]
    },
    {
      "cell_type": "markdown",
      "id": "eb16e898",
      "metadata": {
        "id": "eb16e898"
      },
      "source": [
        "**7-Write a Python program to count the occurrences of each word in a given sentence (Sample String:amr and ahmed are frindes but amr is the tallest Expected Result:2)"
      ]
    },
    {
      "cell_type": "code",
      "execution_count": null,
      "id": "01ce6cf5",
      "metadata": {
        "id": "01ce6cf5",
        "colab": {
          "base_uri": "https://localhost:8080/"
        },
        "outputId": "26034ae9-7ec6-47d5-a702-a0a014cf6dc1"
      },
      "outputs": [
        {
          "output_type": "stream",
          "name": "stdout",
          "text": [
            "Enter a string of words separated by a space: amr and ahmed are frindes but amr is the tallest\n",
            "amr: 2\n",
            "and: 1\n",
            "ahmed: 1\n",
            "are: 1\n",
            "frindes: 1\n",
            "but: 1\n",
            "is: 1\n",
            "the: 1\n",
            "tallest: 1\n"
          ]
        }
      ],
      "source": [
        "def count_word(words):\n",
        "  count_word = {}\n",
        "  for i in words:\n",
        "    if i in count_word:\n",
        "      count_word[i] += 1\n",
        "    else :\n",
        "      count_word[i] = 1\n",
        "  for i , count in count_word.items():\n",
        "    print(f\"{i}: {count}\")\n",
        "count_word(words = input(\"Enter a string of words separated by a space: \").lower().split())\n"
      ]
    },
    {
      "cell_type": "markdown",
      "id": "4e8125f1",
      "metadata": {
        "id": "4e8125f1"
      },
      "source": [
        "**8-Write a Python script that takes input from the user and displays that input back in upper and lower cases"
      ]
    },
    {
      "cell_type": "code",
      "execution_count": null,
      "id": "66c8f778",
      "metadata": {
        "id": "66c8f778",
        "colab": {
          "base_uri": "https://localhost:8080/"
        },
        "outputId": "dcc3e09b-f5a1-4fad-aaca-ce4b3050b96d"
      },
      "outputs": [
        {
          "output_type": "stream",
          "name": "stdout",
          "text": [
            "Enter any string: Hello World\n",
            "Uppercase: HELLO WORLD\n",
            "Lowercase: hello world\n"
          ]
        }
      ],
      "source": [
        "words = input(\"Enter any string: \")\n",
        "upper_string , lower_string = words.upper() , words.lower()\n",
        "print(f\"Uppercase: {upper_string}\\nLowercase: {lower_string}\")"
      ]
    },
    {
      "cell_type": "markdown",
      "id": "fcd68aa1",
      "metadata": {
        "id": "fcd68aa1"
      },
      "source": [
        "**9-Write a Python function to reverse a string if its length is a multiple of 4"
      ]
    },
    {
      "cell_type": "code",
      "execution_count": null,
      "id": "0671a931",
      "metadata": {
        "id": "0671a931",
        "colab": {
          "base_uri": "https://localhost:8080/"
        },
        "outputId": "f5f1dce7-14e6-47ab-c6ca-1cec644b0dc8"
      },
      "outputs": [
        {
          "output_type": "stream",
          "name": "stdout",
          "text": [
            "Enter any String: abcd\n",
            "dcba\n",
            "Enter any String: abcdefg\n",
            "abcdefg\n"
          ]
        }
      ],
      "source": [
        "def reverse_string(string):\n",
        "  if len(string) % 4 == 0:\n",
        "    return string[::-1]\n",
        "  else:\n",
        "    return string\n",
        "print(reverse_string(input(\"Enter any String: \")))\n",
        "print(reverse_string(input(\"Enter any String: \")))"
      ]
    },
    {
      "cell_type": "markdown",
      "id": "b577c68d",
      "metadata": {
        "id": "b577c68d"
      },
      "source": [
        "**10- Write a Python program to remove a newline in Python"
      ]
    },
    {
      "cell_type": "code",
      "execution_count": null,
      "id": "e0c6525a",
      "metadata": {
        "id": "e0c6525a",
        "colab": {
          "base_uri": "https://localhost:8080/"
        },
        "outputId": "19a02796-4a1a-44d8-e079-3bfce04894db"
      },
      "outputs": [
        {
          "output_type": "stream",
          "name": "stdout",
          "text": [
            "line1\n",
            "line2\n",
            "line3\n",
            "line1line2line3\n"
          ]
        }
      ],
      "source": [
        "def remove_newline(string):\n",
        "  string = string.replace(\"\\n\" , \"\")\n",
        "  return string\n",
        "string = \"line1\\nline2\\nline3\"\n",
        "print(string)\n",
        "print(remove_newline(string))\n"
      ]
    },
    {
      "cell_type": "markdown",
      "id": "80db5ae0",
      "metadata": {
        "id": "80db5ae0"
      },
      "source": [
        "**11-Write a Python program to check whether a string starts with specified characters"
      ]
    },
    {
      "cell_type": "code",
      "execution_count": null,
      "id": "0cc4e03e",
      "metadata": {
        "id": "0cc4e03e",
        "colab": {
          "base_uri": "https://localhost:8080/"
        },
        "outputId": "9118b3cb-85f2-4c4a-8406-e8078688af25"
      },
      "outputs": [
        {
          "output_type": "stream",
          "name": "stdout",
          "text": [
            "Type any text to check if it starts with 'Sa' or not: Salah\n",
            "The string 'Salah' already starts with the letters 'Sa'.\n",
            "Type any text to check if it starts with 'Sa' or not: samar\n",
            "The string 'samar' already starts with the letters 'Sa'.\n",
            "Type any text to check if it starts with 'Sa' or not: hassan\n",
            "The string 'hassan' Not starts with the letters 'Sa'.\n"
          ]
        }
      ],
      "source": [
        "def Check_WhetherStringStarts(String , Check):\n",
        "  if len(Check) > len(String):\n",
        "    return False\n",
        "  Check = Check.lower()\n",
        "  String = String.lower()\n",
        "  return String[0:len(Check)] == Check\n",
        "Check = \"Sa\"\n",
        "String = input(\"Type any text to check if it starts with 'Sa' or not: \")\n",
        "Result = Check_WhetherStringStarts(String, Check)\n",
        "if Result: print(f\"The string '{String}' already starts with the letters '{Check}'.\")\n",
        "String = input(\"Type any text to check if it starts with 'Sa' or not: \")\n",
        "Result = Check_WhetherStringStarts(String, Check)\n",
        "if Result: print(f\"The string '{String}' already starts with the letters '{Check}'.\")\n",
        "String = input(\"Type any text to check if it starts with 'Sa' or not: \")\n",
        "Result = Check_WhetherStringStarts(String, Check)\n",
        "if Result: print(f\"The string '{String}' already starts with the letters '{Check}'.\")\n",
        "else: print(f\"The string '{String}' Not starts with the letters '{Check}'.\")"
      ]
    },
    {
      "cell_type": "markdown",
      "id": "593a68db",
      "metadata": {
        "id": "593a68db"
      },
      "source": [
        "**12- Write a Python program to add prefix text to all of the lines in a string"
      ]
    },
    {
      "cell_type": "code",
      "execution_count": null,
      "id": "d2e46ada",
      "metadata": {
        "id": "d2e46ada",
        "colab": {
          "base_uri": "https://localhost:8080/"
        },
        "outputId": "c094d74d-9fa1-4742-ca1d-e2f4eb0447a7"
      },
      "outputs": [
        {
          "output_type": "stream",
          "name": "stdout",
          "text": [
            "line1\n",
            "line2\n",
            "line3\n",
            "- line1\n",
            "- line2\n",
            "- line3\n"
          ]
        }
      ],
      "source": [
        "def add_prefix_newline(string):\n",
        "  string = \"- \" + string[0:]\n",
        "  string = string.replace(\"\\n\" , \"\\n- \")\n",
        "  return string\n",
        "string = \"line1\\nline2\\nline3\"\n",
        "print(string)\n",
        "print(add_prefix_newline(string))"
      ]
    },
    {
      "cell_type": "markdown",
      "id": "86fa1543",
      "metadata": {
        "id": "86fa1543"
      },
      "source": [
        "**13-Write a Python program to print the following numbers up to 2 decimal places"
      ]
    },
    {
      "cell_type": "code",
      "execution_count": null,
      "id": "cd4a9d89",
      "metadata": {
        "id": "cd4a9d89",
        "colab": {
          "base_uri": "https://localhost:8080/"
        },
        "outputId": "96dba94e-0106-4af7-897f-983cdc38bd60"
      },
      "outputs": [
        {
          "output_type": "stream",
          "name": "stdout",
          "text": [
            "5.56\n",
            "4.00\n",
            "7.85\n"
          ]
        }
      ],
      "source": [
        "def Print_numbers_to_2_decimal(Number):\n",
        "  for N in Number:\n",
        "    print(f\"{N:.2f}\")\n",
        "Numbers = [5.5552,4.0,7.8524]\n",
        "Print_numbers_to_2_decimal(Numbers)"
      ]
    },
    {
      "cell_type": "markdown",
      "id": "452c0ab0",
      "metadata": {
        "id": "452c0ab0"
      },
      "source": [
        "**14-Write a Python program to print the following numbers up to 2 decimal places with a sign"
      ]
    },
    {
      "cell_type": "code",
      "execution_count": null,
      "id": "73e82479",
      "metadata": {
        "id": "73e82479",
        "colab": {
          "base_uri": "https://localhost:8080/"
        },
        "outputId": "8c81ee24-a93d-44a7-b811-e09131b93cfa"
      },
      "outputs": [
        {
          "output_type": "stream",
          "name": "stdout",
          "text": [
            "+5.56\n",
            "+4.00\n",
            "-7.85\n"
          ]
        }
      ],
      "source": [
        "def Print_numbers_to_2_decimal_sign(Number):\n",
        "  for N in Number:\n",
        "    print(f\"{N:+.2f}\")\n",
        "Numbers = [+5.5552,+4.0,-7.8524]\n",
        "Print_numbers_to_2_decimal_sign(Numbers)"
      ]
    },
    {
      "cell_type": "markdown",
      "id": "32b1811a",
      "metadata": {
        "id": "32b1811a"
      },
      "source": [
        "**15-Write a Python program to display a number with a comma separator"
      ]
    },
    {
      "cell_type": "code",
      "execution_count": null,
      "id": "f30fc0b6",
      "metadata": {
        "id": "f30fc0b6",
        "colab": {
          "base_uri": "https://localhost:8080/"
        },
        "outputId": "2ac0eb91-b7e8-4b3d-e127-51fbf2ce8068"
      },
      "outputs": [
        {
          "output_type": "stream",
          "name": "stdout",
          "text": [
            "5,822,545.5552\n",
            "445,485.0\n",
            "-7,486,157.8524\n"
          ]
        }
      ],
      "source": [
        "def Print_numbers_to_2_decimal(Number):\n",
        "  for N in Number:\n",
        "    print(f\"{N:,}\")\n",
        "Numbers = [+5822545.5552,+445485.0,-7486157.8524]\n",
        "Print_numbers_to_2_decimal(Numbers)"
      ]
    },
    {
      "cell_type": "markdown",
      "id": "0477f487",
      "metadata": {
        "id": "0477f487"
      },
      "source": [
        "**16-Write a Python program to reverse a string using 2 ways"
      ]
    },
    {
      "cell_type": "code",
      "execution_count": null,
      "id": "aa8beec8",
      "metadata": {
        "id": "aa8beec8",
        "colab": {
          "base_uri": "https://localhost:8080/"
        },
        "outputId": "7351189c-dc45-4211-e502-52459a3f830e"
      },
      "outputs": [
        {
          "output_type": "stream",
          "name": "stdout",
          "text": [
            "Enter any String: Salah Bairouti\n",
            "ituoriaB halaS\n"
          ]
        }
      ],
      "source": [
        "String = input(\"Enter any String: \")\n",
        "print(String[::-1])"
      ]
    },
    {
      "cell_type": "code",
      "source": [
        "String = input(\"Enter any String: \")\n",
        "print(''.join(reversed(String)))"
      ],
      "metadata": {
        "colab": {
          "base_uri": "https://localhost:8080/"
        },
        "id": "bJaF2tmOo6Uy",
        "outputId": "d1803fef-b012-4364-ea66-943a78fc33a4"
      },
      "id": "bJaF2tmOo6Uy",
      "execution_count": null,
      "outputs": [
        {
          "output_type": "stream",
          "name": "stdout",
          "text": [
            "Enter any String: Salah Bairouti\n",
            "ituoriaB halaS\n"
          ]
        }
      ]
    },
    {
      "cell_type": "markdown",
      "id": "5afc3166",
      "metadata": {
        "id": "5afc3166"
      },
      "source": [
        " **17-Write a Python program to count repeated characters in a string (hint:use dictionary)"
      ]
    },
    {
      "cell_type": "code",
      "execution_count": null,
      "id": "515a469c",
      "metadata": {
        "id": "515a469c",
        "colab": {
          "base_uri": "https://localhost:8080/"
        },
        "outputId": "0e58f3a6-b0fe-4597-c802-a4cc64620b0f"
      },
      "outputs": [
        {
          "output_type": "stream",
          "name": "stdout",
          "text": [
            "Enter a string: Salah Bairouti\n",
            "'a' : '3'\n",
            "'i' : '2'\n"
          ]
        }
      ],
      "source": [
        "def CountRepeatedCharacters(String):\n",
        "  String = String.lower()\n",
        "  CountChar = {}\n",
        "  for i in String:\n",
        "    if i in CountChar:\n",
        "      CountChar[i] += 1\n",
        "    else:\n",
        "      CountChar[i] = 1\n",
        "\n",
        "  for i , count in CountChar.items():\n",
        "    if count > 1 :\n",
        "      print(f\"'{i}' : '{count}'\")\n",
        "CountRepeatedCharacters(input(\"Enter a string: \"))"
      ]
    },
    {
      "cell_type": "markdown",
      "id": "ae14e4e5",
      "metadata": {
        "id": "ae14e4e5"
      },
      "source": [
        "**18-Write a Python program to find the first non-repeating character in a given string"
      ]
    },
    {
      "cell_type": "code",
      "execution_count": null,
      "id": "d73778e5",
      "metadata": {
        "id": "d73778e5",
        "colab": {
          "base_uri": "https://localhost:8080/"
        },
        "outputId": "be62709c-ade3-47ad-9b81-ee294fb31885"
      },
      "outputs": [
        {
          "output_type": "stream",
          "name": "stdout",
          "text": [
            "Enter a string: Hello how are you\n",
            "The first non-repeating character is : 'w'\n"
          ]
        }
      ],
      "source": [
        "def FirstRepeatedCharacters(String):\n",
        "  String = String.lower()\n",
        "  CountChar = {}\n",
        "  for i in String:\n",
        "    if i in CountChar:\n",
        "      CountChar[i] += 1\n",
        "    else:\n",
        "      CountChar[i] = 1\n",
        "\n",
        "  for i in String:\n",
        "    if CountChar[i] == 1 :\n",
        "      print(f\"The first non-repeating character is : '{i}'\")\n",
        "      return\n",
        "  print(\"No non-repeating character found.\")\n",
        "\n",
        "FirstRepeatedCharacters(input(\"Enter a string: \"))"
      ]
    },
    {
      "cell_type": "markdown",
      "id": "3adf5669",
      "metadata": {
        "id": "3adf5669"
      },
      "source": [
        "**19-Write a Python program to remove spaces from a given string"
      ]
    },
    {
      "cell_type": "code",
      "execution_count": null,
      "id": "b4f22602",
      "metadata": {
        "id": "b4f22602",
        "colab": {
          "base_uri": "https://localhost:8080/"
        },
        "outputId": "0acb5a6b-2f56-4cd7-9a21-eeac8f43c395"
      },
      "outputs": [
        {
          "output_type": "stream",
          "name": "stdout",
          "text": [
            "Enter any String: Salah Bairouti\n",
            "SalahBairouti\n"
          ]
        }
      ],
      "source": [
        "String = input(\"Enter any String: \")\n",
        "print(String.replace(\" \",\"\"))"
      ]
    },
    {
      "cell_type": "markdown",
      "id": "734de60c",
      "metadata": {
        "id": "734de60c"
      },
      "source": [
        "**20-Write a Python program to count the number of non-empty substrings of a given string"
      ]
    },
    {
      "cell_type": "code",
      "execution_count": null,
      "id": "ef3f2274",
      "metadata": {
        "id": "ef3f2274",
        "colab": {
          "base_uri": "https://localhost:8080/"
        },
        "outputId": "ff0dbcec-5d98-4d28-9078-10810e583285"
      },
      "outputs": [
        {
          "output_type": "stream",
          "name": "stdout",
          "text": [
            "Enter any String: Salah Bairouti\n",
            "This '91' count the number of non-empty substrings of a given string\n"
          ]
        }
      ],
      "source": [
        "def count_substrings(String):\n",
        "  String = String.replace(\" \",\"\")\n",
        "  Num = len(String)\n",
        "  return Num * (Num + 1) // 2\n",
        "\n",
        "Result = count_substrings(input(\"Enter any String: \"))\n",
        "print(f\"This '{Result}' count the number of non-empty substrings of a given string\")"
      ]
    },
    {
      "cell_type": "markdown",
      "id": "509998e2",
      "metadata": {
        "id": "509998e2"
      },
      "source": [
        "**21-write a Python program to swap first and last element of any list."
      ]
    },
    {
      "cell_type": "code",
      "execution_count": null,
      "id": "68692d7f",
      "metadata": {
        "id": "68692d7f",
        "colab": {
          "base_uri": "https://localhost:8080/"
        },
        "outputId": "beeb4a86-42a8-42c6-cb52-891abf930d63"
      },
      "outputs": [
        {
          "output_type": "stream",
          "name": "stdout",
          "text": [
            "Enter numbers separated by spaces: 5 8 7 4\n",
            "This '[4, 8, 7, 5]' list after switching between the first and last item in the list.\n"
          ]
        }
      ],
      "source": [
        "def swap_first_last(s):\n",
        "  if len(s) > 1:\n",
        "    s[0], s[-1] = s[-1] , s[0]\n",
        "  return s\n",
        "Result = swap_first_last(list(map(int, input(\"Enter numbers separated by spaces: \").split())))\n",
        "print(f\"This '{Result}' list after switching between the first and last item in the list.\")"
      ]
    },
    {
      "cell_type": "markdown",
      "id": "959e0837",
      "metadata": {
        "id": "959e0837"
      },
      "source": [
        "**22-Given a list in Python and provided the positions of the elements, write a program to swap the two elements in the list. (Input : List = [23, 65, 19, 90], pos1 = 1, pos2 = 3\n",
        "Output : [19, 65, 23, 90])"
      ]
    },
    {
      "cell_type": "code",
      "execution_count": null,
      "id": "225d8c6d",
      "metadata": {
        "id": "225d8c6d",
        "colab": {
          "base_uri": "https://localhost:8080/"
        },
        "outputId": "d830b3a4-af32-47c5-c296-51d76fec2cf4"
      },
      "outputs": [
        {
          "output_type": "stream",
          "name": "stdout",
          "text": [
            "input List: [23, 65, 19, 90]\n",
            "2\n",
            "4\n",
            "List after swapping: [23, 90, 19, 65]\n"
          ]
        }
      ],
      "source": [
        "def swap_pos(Lst, pos1, pos2):\n",
        "  pos1 -= 1\n",
        "  pos2 -= 1\n",
        "  Lst[pos1],Lst[pos2] = Lst[pos2],Lst[pos1]\n",
        "  return Lst\n",
        "List = [23, 65, 19, 90]\n",
        "print(f\"input List: {List}\")\n",
        "pos1 = int(input(\"\"))\n",
        "pos2 = int(input(\"\"))\n",
        "Result = swap_pos(List , pos1, pos2)\n",
        "print(\"List after swapping:\", Result)"
      ]
    },
    {
      "cell_type": "markdown",
      "id": "66fc6682",
      "metadata": {
        "id": "66fc6682"
      },
      "source": [
        "**23- search for the all ways to know the length of the list"
      ]
    },
    {
      "cell_type": "code",
      "source": [
        "my_list = [1, 2, 3, 4]\n",
        "length1 = len(my_list)\n",
        "print(f\"1- The first  method, {length1}\")\n",
        "#####################\n",
        "length2 = my_list.__len__()\n",
        "print(f\"2- The second method, {length2}\")\n",
        "#####################\n",
        "length3 = 0\n",
        "for _ in my_list:\n",
        "    length3 += 1\n",
        "print(f\"3- The third  method, {length3}\")\n",
        "#####################\n",
        "length4 = sum(1 for _ in my_list)\n",
        "print(f\"4- The Fourth method, {length4}\")"
      ],
      "metadata": {
        "id": "CX-D5oFrXIc0",
        "colab": {
          "base_uri": "https://localhost:8080/"
        },
        "outputId": "581ec4d3-4bc8-43fd-e75f-e2a23fffe97f"
      },
      "id": "CX-D5oFrXIc0",
      "execution_count": 9,
      "outputs": [
        {
          "output_type": "stream",
          "name": "stdout",
          "text": [
            "1- The first  method, 4\n",
            "2- The second method, 4\n",
            "3- The third  method, 4\n",
            "4- The Fourth method, 4\n"
          ]
        }
      ]
    },
    {
      "cell_type": "markdown",
      "source": [
        "**24-write a Python code to find the Maximum number of list of numbers."
      ],
      "metadata": {
        "id": "CbB5SWbaXBFU"
      },
      "id": "CbB5SWbaXBFU"
    },
    {
      "cell_type": "code",
      "execution_count": null,
      "id": "15f342de",
      "metadata": {
        "id": "15f342de",
        "colab": {
          "base_uri": "https://localhost:8080/"
        },
        "outputId": "1b540f86-562a-4880-d639-8c21f5e4ee9d"
      },
      "outputs": [
        {
          "output_type": "stream",
          "name": "stdout",
          "text": [
            "The Maximum number of list: 358\n"
          ]
        }
      ],
      "source": [
        "numbers = [ 52 , 87 , 54, 57, 90, 358 , 40 ,75]\n",
        "print(f\"The Maximum number of list: {max(numbers)}\")"
      ]
    },
    {
      "cell_type": "markdown",
      "source": [
        "**25-write a Python code to find the Minimum number of list of numbers."
      ],
      "metadata": {
        "id": "bY8zF6_yXDah"
      },
      "id": "bY8zF6_yXDah"
    },
    {
      "cell_type": "code",
      "execution_count": null,
      "id": "21f8cbd6",
      "metadata": {
        "id": "21f8cbd6",
        "colab": {
          "base_uri": "https://localhost:8080/"
        },
        "outputId": "c52053a2-2b40-4560-8524-18e17d8e5025"
      },
      "outputs": [
        {
          "output_type": "stream",
          "name": "stdout",
          "text": [
            "The Maximum number of list: 40\n"
          ]
        }
      ],
      "source": [
        "numbers = [ 52 , 87 , 54, 57, 90, 358 , 40 ,75]\n",
        "print(f\"The Maximum number of list: {min(numbers)}\")"
      ]
    },
    {
      "cell_type": "markdown",
      "id": "96822d96",
      "metadata": {
        "id": "96822d96"
      },
      "source": [
        "**26-search for if an elem is existing in list"
      ]
    },
    {
      "cell_type": "code",
      "execution_count": null,
      "id": "51ca5c9a",
      "metadata": {
        "id": "51ca5c9a",
        "colab": {
          "base_uri": "https://localhost:8080/"
        },
        "outputId": "24df138a-75fd-4c4b-c68a-33d7d0f0dfcb"
      },
      "outputs": [
        {
          "output_type": "stream",
          "name": "stdout",
          "text": [
            "54\n",
            "Found\n"
          ]
        }
      ],
      "source": [
        "numbers = [ 52 , 87 , 54, 57, 90, 358 , 40 ,75]\n",
        "Found = int(input())\n",
        "if Found in numbers:\n",
        "  print(\"Found\")\n",
        "else :\n",
        "  print(\"Not Found\")\n"
      ]
    },
    {
      "cell_type": "markdown",
      "id": "d9557da7",
      "metadata": {
        "id": "d9557da7"
      },
      "source": [
        "**27- clear python list using different ways"
      ]
    },
    {
      "cell_type": "code",
      "execution_count": null,
      "id": "b69858a3",
      "metadata": {
        "id": "b69858a3",
        "colab": {
          "base_uri": "https://localhost:8080/"
        },
        "outputId": "a6f4f32b-cc90-4413-c5b3-b7a346128fe8"
      },
      "outputs": [
        {
          "output_type": "stream",
          "name": "stdout",
          "text": [
            "[]\n"
          ]
        }
      ],
      "source": [
        "numbers = [ 52 , 87 , 54, 57, 90, 358 , 40 ,75]\n",
        "numbers = []\n",
        "print(numbers)"
      ]
    },
    {
      "cell_type": "code",
      "source": [
        "numbers = [ 52 , 87 , 54, 57, 90, 358 , 40 ,75]\n",
        "numbers.clear()\n",
        "print(numbers)"
      ],
      "metadata": {
        "colab": {
          "base_uri": "https://localhost:8080/"
        },
        "id": "_-MKyg7_D_JS",
        "outputId": "7fc7039b-7c70-4306-8a66-34d04ad670e0"
      },
      "id": "_-MKyg7_D_JS",
      "execution_count": null,
      "outputs": [
        {
          "output_type": "stream",
          "name": "stdout",
          "text": [
            "[]\n"
          ]
        }
      ]
    },
    {
      "cell_type": "code",
      "source": [
        "numbers = [ 52 , 87 , 54, 57, 90, 358 , 40 ,75]\n",
        "while numbers:\n",
        "  numbers.pop()\n",
        "print(numbers)"
      ],
      "metadata": {
        "colab": {
          "base_uri": "https://localhost:8080/"
        },
        "id": "3Xn3999XEHmT",
        "outputId": "bf8f62dc-2d7d-494f-e897-5b63d2742d81"
      },
      "id": "3Xn3999XEHmT",
      "execution_count": null,
      "outputs": [
        {
          "output_type": "stream",
          "name": "stdout",
          "text": [
            "[]\n"
          ]
        }
      ]
    },
    {
      "cell_type": "markdown",
      "id": "52160e88",
      "metadata": {
        "id": "52160e88"
      },
      "source": [
        "**28-remove duplicated elements from a list"
      ]
    },
    {
      "cell_type": "code",
      "execution_count": null,
      "id": "5e362228",
      "metadata": {
        "id": "5e362228",
        "colab": {
          "base_uri": "https://localhost:8080/"
        },
        "outputId": "f3ef541a-682e-4b88-b35a-e2c295c08e50"
      },
      "outputs": [
        {
          "output_type": "stream",
          "name": "stdout",
          "text": [
            "[358, 75, 47, 52, 57, 90]\n"
          ]
        }
      ],
      "source": [
        "numbers = [ 52 , 47 , 52, 57, 90, 358 , 90 ,75]\n",
        "numbers = list(set(numbers))\n",
        "print(numbers)"
      ]
    },
    {
      "cell_type": "code",
      "source": [
        "def RemoveDuplicatedElements(x):\n",
        "  numbers = []\n",
        "  for i in x :\n",
        "    if i not in numbers:\n",
        "      numbers.append(i)\n",
        "  print(numbers)\n",
        "numbers = [ 52 , 47 , 52, 57, 90, 358 , 90 ,75]\n",
        "RemoveDuplicatedElements(numbers)"
      ],
      "metadata": {
        "colab": {
          "base_uri": "https://localhost:8080/"
        },
        "id": "IRjaGXTEFBCv",
        "outputId": "2e64793b-c2ed-41f6-8d0a-ecae772cef89"
      },
      "id": "IRjaGXTEFBCv",
      "execution_count": null,
      "outputs": [
        {
          "output_type": "stream",
          "name": "stdout",
          "text": [
            "[52, 47, 57, 90, 358, 75]\n"
          ]
        }
      ]
    },
    {
      "cell_type": "markdown",
      "id": "282337f7",
      "metadata": {
        "id": "282337f7"
      },
      "source": [
        "**29-Given list values and keys list, convert these values to key value pairs in form of list of dictionaries. (Input : test_list = [“Gfg”, 3, “is”, 8], key_list = [“name”, “id”]\n",
        "Output : [{‘name’: ‘Gfg’, ‘id’: 3}, {‘name’: ‘is’, ‘id’: 8}])"
      ]
    },
    {
      "cell_type": "code",
      "execution_count": 10,
      "id": "4d4e2d28",
      "metadata": {
        "id": "4d4e2d28",
        "colab": {
          "base_uri": "https://localhost:8080/"
        },
        "outputId": "d07c5d51-d7db-4620-c6bc-a253c463cdd3"
      },
      "outputs": [
        {
          "output_type": "stream",
          "name": "stdout",
          "text": [
            "[{'name': 'Gfg', 'id': 3}, {'name': 'is', 'id': 8}]\n"
          ]
        }
      ],
      "source": [
        "def convert_to_key_value_pairs(test_list, key_list):\n",
        "    result = []\n",
        "\n",
        "    for i in range(0, len(test_list), 2):\n",
        "        dictionary = {key_list[0]: test_list[i], key_list[1]: test_list[i + 1]}\n",
        "        result.append(dictionary)\n",
        "\n",
        "    return result\n",
        "\n",
        "test_list = [\"Gfg\", 3, \"is\", 8]\n",
        "key_list = [\"name\", \"id\"]\n",
        "output = convert_to_key_value_pairs(test_list, key_list)\n",
        "print(output)"
      ]
    },
    {
      "cell_type": "markdown",
      "id": "c26b6e9f",
      "metadata": {
        "id": "c26b6e9f"
      },
      "source": [
        "**30-write a python program to count unique values inside a list using different ways\n",
        "\n"
      ]
    },
    {
      "cell_type": "code",
      "execution_count": 11,
      "id": "72132667",
      "metadata": {
        "id": "72132667",
        "colab": {
          "base_uri": "https://localhost:8080/"
        },
        "outputId": "ab723fb8-8952-4f85-efa5-6a926a39df14"
      },
      "outputs": [
        {
          "output_type": "stream",
          "name": "stdout",
          "text": [
            "Number of unique values: 8\n"
          ]
        }
      ],
      "source": [
        "my_list = [1, 2, 3, 4, 2, 3, 5, 6, 7, 8, 1]\n",
        "\n",
        "unique_count = len(set(my_list))\n",
        "\n",
        "print(\"Number of unique values:\", unique_count)"
      ]
    },
    {
      "cell_type": "code",
      "source": [
        "my_list = [1, 2, 3, 4, 2, 3, 5, 6, 7, 8, 1]\n",
        "\n",
        "unique_values = set()\n",
        "\n",
        "for item in my_list:\n",
        "    unique_values.add(item)\n",
        "\n",
        "unique_count = len(unique_values)\n",
        "\n",
        "print(\"Number of unique values:\", unique_count)"
      ],
      "metadata": {
        "colab": {
          "base_uri": "https://localhost:8080/"
        },
        "id": "3mLEfE1qIyEy",
        "outputId": "db5f3e7c-fa46-4eee-9251-a336f5e61fee"
      },
      "id": "3mLEfE1qIyEy",
      "execution_count": 12,
      "outputs": [
        {
          "output_type": "stream",
          "name": "stdout",
          "text": [
            "Number of unique values: 8\n"
          ]
        }
      ]
    },
    {
      "cell_type": "markdown",
      "id": "fed6677c",
      "metadata": {
        "id": "fed6677c"
      },
      "source": [
        "**31-write a python program Extract all elements with Frequency greater than K (Input : test_list = [4, 6, 4, 3, 3, 4, 3, 4, 3, 8], K = 3\n",
        "Output : [4, 3] )"
      ]
    },
    {
      "cell_type": "code",
      "execution_count": 15,
      "id": "d81f3f9d",
      "metadata": {
        "id": "d81f3f9d",
        "colab": {
          "base_uri": "https://localhost:8080/"
        },
        "outputId": "0c5e337b-655c-4b8f-fdc3-7b7e77783416"
      },
      "outputs": [
        {
          "output_type": "stream",
          "name": "stdout",
          "text": [
            "Elements with frequency greater than 3 : [4, 3]\n"
          ]
        }
      ],
      "source": [
        "def extract_elements_with_frequency(Num_list, K):\n",
        "    frequency = {}\n",
        "    for element in Num_list:\n",
        "        if element in frequency:\n",
        "            frequency[element] += 1\n",
        "        else:\n",
        "            frequency[element] = 1\n",
        "\n",
        "    result = [element for element, count in frequency.items() if count > K]\n",
        "\n",
        "    return result\n",
        "\n",
        "test_list = [4, 6, 4, 3, 3, 4, 3, 4, 3, 8]\n",
        "K = 3\n",
        "output = extract_elements_with_frequency(test_list, K)\n",
        "print(\"Elements with frequency greater than\", K, \":\", output)"
      ]
    },
    {
      "cell_type": "markdown",
      "id": "caca5224",
      "metadata": {
        "id": "caca5224"
      },
      "source": [
        "**32-write a python program to find the Strongest Neighbour (Input: 1 2 2 3 4 5\n",
        "Output: 2 2 3 4 5)"
      ]
    },
    {
      "cell_type": "code",
      "execution_count": 18,
      "id": "39fbd9b2",
      "metadata": {
        "id": "39fbd9b2",
        "colab": {
          "base_uri": "https://localhost:8080/"
        },
        "outputId": "08e01965-40a6-4e6b-dfcf-5ccb65efa319"
      },
      "outputs": [
        {
          "output_type": "stream",
          "name": "stdout",
          "text": [
            "Strongest Neighbours: [2, 2, 3, 4, 5]\n"
          ]
        }
      ],
      "source": [
        "def find_strongest_neighbour(Num_list):\n",
        "    return [max(Num_list[i], Num_list[i + 1]) for i in range(len(Num_list) - 1)]\n",
        "\n",
        "list_ = [1, 2, 2, 3, 4, 5]\n",
        "output = find_strongest_neighbour(list_)\n",
        "print(\"Strongest Neighbours:\", output)"
      ]
    },
    {
      "cell_type": "markdown",
      "id": "a9fa8baf",
      "metadata": {
        "id": "a9fa8baf"
      },
      "source": [
        "**33-write a Python Program to print all Possible Combinations from the three Digits (Input: [1, 2, 3]\n",
        "Output:\n",
        "1 2 3 ##\n",
        "1 3 2 ##\n",
        "2 1 3 ##\n",
        "2 3 1 ##\n",
        "3 1 2 ##\n",
        "3 2 1)"
      ]
    },
    {
      "cell_type": "code",
      "execution_count": 22,
      "id": "8c520a76",
      "metadata": {
        "id": "8c520a76",
        "colab": {
          "base_uri": "https://localhost:8080/"
        },
        "outputId": "0d400f6e-41ff-4224-ec8a-1461d5ebdd8d"
      },
      "outputs": [
        {
          "output_type": "stream",
          "name": "stdout",
          "text": [
            "1 2 3 ## 1 3 2 ## 2 1 3 ## 2 3 1 ## 3 1 2 ## 3 2 1 ## \n"
          ]
        }
      ],
      "source": [
        "def print_all_combinations(digits):\n",
        "    for i in range(3):\n",
        "        for j in range(3):\n",
        "            for k in range(3):\n",
        "                if i != j and j != k and i != k:\n",
        "                    print(digits[i], digits[j], digits[k], end=\" ## \")\n",
        "    print()\n",
        "\n",
        "digits = [1, 2, 3]\n",
        "print_all_combinations(digits)"
      ]
    },
    {
      "cell_type": "markdown",
      "id": "5288bb89",
      "metadata": {
        "id": "5288bb89"
      },
      "source": [
        "**34-write a Python program to find all the Combinations in the list with the given condition (Input: test_list = [1,2,3]\n",
        "Output:\n",
        " [1], [1, 2], [1, 2, 3], [1, 3]\n",
        " [2], [2, 3], [3])"
      ]
    },
    {
      "cell_type": "code",
      "execution_count": 1,
      "id": "59b89646",
      "metadata": {
        "id": "59b89646",
        "colab": {
          "base_uri": "https://localhost:8080/"
        },
        "outputId": "ec7cb415-fdbf-4056-ba38-a8a5644bde90"
      },
      "outputs": [
        {
          "output_type": "stream",
          "name": "stdout",
          "text": [
            "All combinations: [[1], [1, 2], [1, 2, 3], [1, 3], [2], [2, 3], [3]]\n"
          ]
        }
      ],
      "source": [
        "def find_all_combinations(test_list):\n",
        "    def backtrack(start, path, result):\n",
        "        if path:\n",
        "            result.append(path[:])\n",
        "\n",
        "        for i in range(start, len(test_list)):\n",
        "            path.append(test_list[i])\n",
        "            backtrack(i + 1, path, result)\n",
        "            path.pop()\n",
        "\n",
        "    result = []\n",
        "    backtrack(0, [], result)\n",
        "    return result\n",
        "\n",
        "test_list = [1, 2, 3]\n",
        "output = find_all_combinations(test_list)\n",
        "print(\"All combinations:\", output)"
      ]
    },
    {
      "cell_type": "markdown",
      "id": "39973705",
      "metadata": {
        "id": "39973705"
      },
      "source": [
        "**35-write a Python program to get all unique combinations of two Lists (List_1 = [\"a\",\"b\"]\n",
        "List_2 = [1,2]\n",
        "Unique_combination = [[('a',1),('b',2)],[('a',2),('b',1)]] )"
      ]
    },
    {
      "cell_type": "code",
      "execution_count": 2,
      "id": "8c4ba22b",
      "metadata": {
        "id": "8c4ba22b",
        "colab": {
          "base_uri": "https://localhost:8080/"
        },
        "outputId": "91279534-732d-4aa5-f81e-02c05d5ff237"
      },
      "outputs": [
        {
          "output_type": "stream",
          "name": "stdout",
          "text": [
            "Unique combinations: [[('a', 1), ('b', 2)], [('a', 2), ('b', 1)]]\n"
          ]
        }
      ],
      "source": [
        "def get_unique_combinations(list_1, list_2):\n",
        "    if len(list_1) != len(list_2):\n",
        "        raise ValueError(\"Both lists must have the same length\")\n",
        "\n",
        "    def generate_permutations(lst, path=None, result=None):\n",
        "        if path is None:\n",
        "            path = []\n",
        "        if result is None:\n",
        "            result = []\n",
        "        if not lst:\n",
        "            result.append(path[:])\n",
        "            return\n",
        "        for i in range(len(lst)):\n",
        "            new_lst = lst[:i] + lst[i+1:]\n",
        "            generate_permutations(new_lst, path + [lst[i]], result)\n",
        "        return result\n",
        "\n",
        "    permuted_list_2 = generate_permutations(list_2)\n",
        "    unique_combinations = []\n",
        "    for perm in permuted_list_2:\n",
        "        combination = list(zip(list_1, perm))\n",
        "        unique_combinations.append(combination)\n",
        "    return unique_combinations\n",
        "\n",
        "list_1 = [\"a\", \"b\"]\n",
        "list_2 = [1, 2]\n",
        "output = get_unique_combinations(list_1, list_2)\n",
        "print(\"Unique combinations:\", output)"
      ]
    },
    {
      "cell_type": "markdown",
      "id": "25199af5",
      "metadata": {
        "id": "25199af5"
      },
      "source": [
        "**36-Remove all the occurrences of an element from a list in Python (Input : 1 1 2 3 4 5 1 2 1\n",
        "\n",
        "**Output : 2 3 4 5 2)"
      ]
    },
    {
      "cell_type": "code",
      "execution_count": 25,
      "id": "6dc4c2ba",
      "metadata": {
        "id": "6dc4c2ba",
        "colab": {
          "base_uri": "https://localhost:8080/"
        },
        "outputId": "6f4b6f36-9971-4f33-bd43-d1644ae98c7d"
      },
      "outputs": [
        {
          "output_type": "stream",
          "name": "stdout",
          "text": [
            "[2, 3, 4, 5, 2]\n"
          ]
        }
      ],
      "source": [
        "lst = [1, 1, 2, 3, 4, 5, 1, 2, 1]\n",
        "i = 0\n",
        "while i < len(lst):\n",
        "  if lst[i] == 1:\n",
        "    lst.pop(i)\n",
        "  else:\n",
        "    i += 1\n",
        "\n",
        "print(lst)"
      ]
    },
    {
      "cell_type": "markdown",
      "id": "bf1a3c93",
      "metadata": {
        "id": "bf1a3c93"
      },
      "source": [
        "**37-write a python program to Replace index elements with elements in Other List (The original list 1 is : [‘Gfg’, ‘is’, ‘best’] The original list 2 is : [0, 1, 2, 1, 0, 0, 0, 2, 1, 1, 2, 0] The lists after index elements replacements is : [‘Gfg’, ‘is’, ‘best’, ‘is’, ‘Gfg’, ‘Gfg’, ‘Gfg’, ‘best’, ‘is’, ‘is’, ‘best’, ‘Gfg’])"
      ]
    },
    {
      "cell_type": "code",
      "execution_count": 26,
      "id": "fdd66a71",
      "metadata": {
        "id": "fdd66a71",
        "colab": {
          "base_uri": "https://localhost:8080/"
        },
        "outputId": "f9e4f921-07e2-46bd-c167-4cfa8e241c66"
      },
      "outputs": [
        {
          "output_type": "stream",
          "name": "stdout",
          "text": [
            "The lists after index elements replacements is : ['Gfg', 'is', 'best', 'is', 'Gfg', 'Gfg', 'Gfg', 'best', 'is', 'is', 'best', 'Gfg']\n"
          ]
        }
      ],
      "source": [
        "list1 = ['Gfg', 'is', 'best']\n",
        "list2 = [0, 1, 2, 1, 0, 0, 0, 2, 1, 1, 2, 0]\n",
        "result = [list1[i] for i in list2]\n",
        "print(\"The lists after index elements replacements is :\", result)"
      ]
    },
    {
      "cell_type": "markdown",
      "id": "af0f56e8",
      "metadata": {
        "id": "af0f56e8"
      },
      "source": [
        "**38- write python program to Retain records with N occurrences of K(Input : test_list = [(4, 5, 5, 4), (5, 4, 3)], K = 5, N = 2\n",
        "Output : [(4, 5, 5, 4)]\n",
        "Input : test_list = [(4, 5, 5, 4), (5, 4, 3)], K = 5, N = 3\n",
        "Output : [] )"
      ]
    },
    {
      "cell_type": "code",
      "execution_count": 31,
      "id": "67b06671",
      "metadata": {
        "id": "67b06671",
        "colab": {
          "base_uri": "https://localhost:8080/"
        },
        "outputId": "da617226-09f6-46a0-f0a9-3212175d2923"
      },
      "outputs": [
        {
          "output_type": "stream",
          "name": "stdout",
          "text": [
            "[(4, 5, 5, 4)]\n",
            "[]\n"
          ]
        }
      ],
      "source": [
        "test_list = [(4, 5, 5, 4), (5, 4, 3)]\n",
        "K = 5\n",
        "N = 2\n",
        "result = [i for i in test_list if i.count(K) == N]\n",
        "print(result)\n",
        "result = [i for i in test_list if i.count(N) == K]\n",
        "print(result)"
      ]
    },
    {
      "cell_type": "markdown",
      "id": "de76f183",
      "metadata": {
        "id": "de76f183"
      },
      "source": [
        "**39-write a Python Program to Sort the list according to the column using lambda\n",
        "array = [[1, 3, 3], [2, 1, 2], [3, 2, 1]]\n",
        "Output :\n",
        "Sorted array specific to column 0, [[1, 3, 3], [2, 1, 2], [3, 2, 1]]\n",
        "Sorted array specific to column 1, [[2, 1, 2], [3, 2, 1], [1, 3, 3]]\n",
        "Sorted array specific to column 2, [[3, 2, 1], [2, 1, 2], [1, 3, 3]]"
      ]
    },
    {
      "cell_type": "code",
      "execution_count": 32,
      "id": "dc883308",
      "metadata": {
        "id": "dc883308",
        "colab": {
          "base_uri": "https://localhost:8080/"
        },
        "outputId": "4c8e7e5d-c8a4-4c73-d093-5ab203acc408"
      },
      "outputs": [
        {
          "output_type": "stream",
          "name": "stdout",
          "text": [
            "Sorted array specific to column 0: [[1, 3, 3], [2, 1, 2], [3, 2, 1]]\n",
            "Sorted array specific to column 1: [[2, 1, 2], [3, 2, 1], [1, 3, 3]]\n",
            "Sorted array specific to column 2: [[3, 2, 1], [2, 1, 2], [1, 3, 3]]\n"
          ]
        }
      ],
      "source": [
        "array = [[1, 3, 3], [2, 1, 2], [3, 2, 1]]\n",
        "sorted_col0 = sorted(array, key=lambda x: x[0])\n",
        "print(\"Sorted array specific to column 0:\", sorted_col0)\n",
        "\n",
        "\n",
        "sorted_col1 = sorted(array, key=lambda x: x[1])\n",
        "print(\"Sorted array specific to column 1:\", sorted_col1)\n",
        "\n",
        "\n",
        "sorted_col2 = sorted(array, key=lambda x: x[2])\n",
        "print(\"Sorted array specific to column 2:\", sorted_col2)"
      ]
    },
    {
      "cell_type": "markdown",
      "source": [
        "**40- write a program to Sort Python Dictionaries by Key or Value\n",
        "Input:\n",
        "{'ravi': 10, 'rajnish': 9, 'sanjeev': 15, 'yash': 2, 'suraj': 32}\n",
        "\n",
        "Output:\n",
        "{'rajnish': 9, 'ravi': 10, 'sanjeev': 15, 'suraj': 32, 'yash': 2}"
      ],
      "metadata": {
        "id": "gG2w1F0PGSn1"
      },
      "id": "gG2w1F0PGSn1"
    },
    {
      "cell_type": "code",
      "execution_count": 36,
      "id": "d2e7b31f",
      "metadata": {
        "id": "d2e7b31f",
        "colab": {
          "base_uri": "https://localhost:8080/"
        },
        "outputId": "7edeb7ad-340c-4061-8068-d72521783472"
      },
      "outputs": [
        {
          "output_type": "stream",
          "name": "stdout",
          "text": [
            "Dictionary sorted by key: {'rajnish': 9, 'ravi': 10, 'sanjeev': 15, 'suraj': 32, 'yash': 2}\n"
          ]
        }
      ],
      "source": [
        "my_dict = {'ravi': 10, 'rajnish': 9, 'sanjeev': 15, 'yash': 2, 'suraj': 32}\n",
        "\n",
        "sorted_by_key = dict(sorted(my_dict.items(), key=lambda item: item[0]))\n",
        "print(f\"Dictionary sorted by key: {sorted_by_key}\")\n"
      ]
    },
    {
      "cell_type": "code",
      "execution_count": null,
      "id": "a96db4a0",
      "metadata": {
        "id": "a96db4a0"
      },
      "outputs": [],
      "source": []
    },
    {
      "cell_type": "markdown",
      "id": "ec63c23a",
      "metadata": {
        "id": "ec63c23a"
      },
      "source": [
        "**41-write python program to Remove keys with Values Greater than K ( Including mixed values )\n",
        "nput : test_dict = {‘Gfg’ : 3, ‘is’ : 7, ‘best’ : 10, ‘for’ : 6, ‘geeks’ : ‘CS’},\n",
        "K = 7\n",
        "Output : {‘Gfg’ : 3, ‘for’ : 6, ‘geeks’ : ‘CS’}"
      ]
    },
    {
      "cell_type": "code",
      "execution_count": 49,
      "id": "e39c3a40",
      "metadata": {
        "id": "e39c3a40",
        "colab": {
          "base_uri": "https://localhost:8080/"
        },
        "outputId": "71b54523-52fa-4c0f-b734-4adc53edc84f"
      },
      "outputs": [
        {
          "output_type": "stream",
          "name": "stdout",
          "text": [
            "{'Gfg': 3, 'for': 6, 'geeks': 'CS'}\n"
          ]
        }
      ],
      "source": [
        "test_dict = {'Gfg': 3, 'is': 7, 'best': 10, 'for': 6, 'geeks': 'CS'}\n",
        "K = 7\n",
        "result = {key: val for key, val in test_dict.items() if not (isinstance(val, (int, float)) and val >= K)}\n",
        "print(result)"
      ]
    },
    {
      "cell_type": "markdown",
      "id": "f143f0fe",
      "metadata": {
        "id": "f143f0fe"
      },
      "source": [
        "**42-Write a Python program to concatenate the following dictionaries to create a new one\n",
        "\n",
        "Sample Dictionary :\n",
        "dic1={1:10, 2:20}\n",
        "dic2={3:30, 4:40}\n",
        "dic3={5:50,6:60}\n",
        "Expected Result : {1: 10, 2: 20, 3: 30, 4: 40, 5: 50, 6: 60}"
      ]
    },
    {
      "cell_type": "code",
      "execution_count": 52,
      "id": "74ffdfea",
      "metadata": {
        "id": "74ffdfea",
        "colab": {
          "base_uri": "https://localhost:8080/"
        },
        "outputId": "3d96407f-05a8-496b-a50c-d93fc2778b45"
      },
      "outputs": [
        {
          "output_type": "stream",
          "name": "stdout",
          "text": [
            "Merged Dictionary: {1: 10, 2: 20, 3: 30, 4: 40, 5: 50, 6: 60}\n"
          ]
        }
      ],
      "source": [
        "dic1 = {1: 10, 2: 20}\n",
        "dic2 = {3: 30, 4: 40}\n",
        "dic3 = {5: 50, 6: 60}\n",
        "\n",
        "merged_dict = {**dic1, **dic2, **dic3}\n",
        "print(f\"Merged Dictionary: {merged_dict}\")"
      ]
    },
    {
      "cell_type": "markdown",
      "id": "fb04c93c",
      "metadata": {
        "id": "fb04c93c"
      },
      "source": [
        "**43-Write a Python program to iterate over dictionaries using for loops"
      ]
    },
    {
      "cell_type": "code",
      "execution_count": 58,
      "id": "6aebc470",
      "metadata": {
        "id": "6aebc470",
        "colab": {
          "base_uri": "https://localhost:8080/"
        },
        "outputId": "2af716ba-6dcc-4207-b457-b0c71790cf01"
      },
      "outputs": [
        {
          "output_type": "stream",
          "name": "stdout",
          "text": [
            "Key: Samsung, Value: 1\n",
            "Key: Apple, Value: 2\n",
            "Key: Huawei, Value: 3\n"
          ]
        }
      ],
      "source": [
        "Mydict = {'Samsung': 1, 'Apple': 2, 'Huawei': 3}\n",
        "\n",
        "for key, value in Mydict.items():\n",
        "    print(f\"Key: {key}, Value: {value}\")"
      ]
    },
    {
      "cell_type": "markdown",
      "id": "5f491a9d",
      "metadata": {
        "id": "5f491a9d"
      },
      "source": [
        "**44- Write a Python script to merge two Python dictionaries"
      ]
    },
    {
      "cell_type": "code",
      "execution_count": 60,
      "id": "b8a14028",
      "metadata": {
        "id": "b8a14028",
        "colab": {
          "base_uri": "https://localhost:8080/"
        },
        "outputId": "f642f8f9-d760-4901-ce98-f6ce247a0a40"
      },
      "outputs": [
        {
          "output_type": "stream",
          "name": "stdout",
          "text": [
            "Merged Dictionary: {'a': 1, 'b': 2, 'c': 3, 'd': 4}\n"
          ]
        }
      ],
      "source": [
        "dict1 = {'a': 1, 'b': 2}\n",
        "dict2 = {'c': 3, 'd': 4}\n",
        "merged_dict = {**dict1, **dict2}\n",
        "\n",
        "print(f\"Merged Dictionary: {merged_dict}\")"
      ]
    },
    {
      "cell_type": "markdown",
      "id": "216fc72d",
      "metadata": {
        "id": "216fc72d"
      },
      "source": [
        "**45-Write a Python program to get the maximum and minimum values of a dictionary values"
      ]
    },
    {
      "cell_type": "code",
      "execution_count": 61,
      "id": "d6883f5f",
      "metadata": {
        "id": "d6883f5f",
        "colab": {
          "base_uri": "https://localhost:8080/"
        },
        "outputId": "966254b8-2506-4c9c-f470-c50e8bac92fa"
      },
      "outputs": [
        {
          "output_type": "stream",
          "name": "stdout",
          "text": [
            "Maximum Value: 50\n",
            "Minimum Value: 4\n"
          ]
        }
      ],
      "source": [
        "my_dict = {'a': 10, 'b': 20, 'c': 4, 'd': 50, 'e': 15}\n",
        "max_value = max(my_dict.values())\n",
        "min_value = min(my_dict.values())\n",
        "print(f\"Maximum Value: {max_value}\")\n",
        "print(f\"Minimum Value: {min_value}\")"
      ]
    },
    {
      "cell_type": "markdown",
      "id": "b6a53011",
      "metadata": {
        "id": "b6a53011"
      },
      "source": [
        "**46- Write a Python program to drop empty items from a given dictionary.\n",
        "Original Dictionary:\n",
        "{'c1': 'Red', 'c2': 'Green', 'c3': None}\n",
        "New Dictionary after dropping empty items:\n",
        "{'c1': 'Red', 'c2': 'Green'}"
      ]
    },
    {
      "cell_type": "code",
      "execution_count": 63,
      "id": "b5c6fecf",
      "metadata": {
        "id": "b5c6fecf",
        "colab": {
          "base_uri": "https://localhost:8080/"
        },
        "outputId": "a52a3324-d048-4408-fe34-3dfd00e1511e"
      },
      "outputs": [
        {
          "output_type": "stream",
          "name": "stdout",
          "text": [
            "New Dictionary after dropping empty items: {'c1': 'Red', 'c2': 'Green'}\n"
          ]
        }
      ],
      "source": [
        "OriginalDictionary = {'c1': 'Red', 'c2': 'Green', 'c3': None}\n",
        "\n",
        "NewDictionary = {key: value for key, value in OriginalDictionary.items() if value is not None}\n",
        "print(f\"New Dictionary after dropping empty items: {NewDictionary}\")"
      ]
    },
    {
      "cell_type": "markdown",
      "id": "46d718c7",
      "metadata": {
        "id": "46d718c7"
      },
      "source": [
        "**47-Write a Python program to create a tuple of numbers and print one item"
      ]
    },
    {
      "cell_type": "code",
      "execution_count": 65,
      "id": "13216ff5",
      "metadata": {
        "id": "13216ff5",
        "colab": {
          "base_uri": "https://localhost:8080/"
        },
        "outputId": "c5b50042-34ef-48fa-9fec-9f638cc869fc"
      },
      "outputs": [
        {
          "output_type": "stream",
          "name": "stdout",
          "text": [
            "The first item in the tuple is: 75\n"
          ]
        }
      ],
      "source": [
        "my_tuple = (10, 20, 30, 40, 50, 75, 90)\n",
        "\n",
        "print(f\"The first item in the tuple is: {my_tuple[-2]}\")"
      ]
    },
    {
      "cell_type": "markdown",
      "id": "2be5b56b",
      "metadata": {
        "id": "2be5b56b"
      },
      "source": [
        "**48-Write a Python program to unpack a tuple into several variables"
      ]
    },
    {
      "cell_type": "code",
      "execution_count": 69,
      "id": "595f44be",
      "metadata": {
        "id": "595f44be",
        "colab": {
          "base_uri": "https://localhost:8080/"
        },
        "outputId": "03d61b4b-2b09-45f3-d6ea-e1db4672c252"
      },
      "outputs": [
        {
          "output_type": "stream",
          "name": "stdout",
          "text": [
            "1- 57\n",
            "2- 75\n",
            "3- 80\n"
          ]
        }
      ],
      "source": [
        "MyTuple = (57, 75, 80)\n",
        "\n",
        "a, b, c = MyTuple\n",
        "\n",
        "print(\"1-\", a)\n",
        "print(\"2-\", b)\n",
        "print(\"3-\", c)"
      ]
    },
    {
      "cell_type": "markdown",
      "id": "392388a7",
      "metadata": {
        "id": "392388a7"
      },
      "source": [
        "**49-Write a Python program to add an item to a tuple"
      ]
    },
    {
      "cell_type": "code",
      "execution_count": 71,
      "id": "54cc092e",
      "metadata": {
        "id": "54cc092e",
        "colab": {
          "base_uri": "https://localhost:8080/"
        },
        "outputId": "db754737-2c35-40a9-cd1f-72eeb2c4f4ab"
      },
      "outputs": [
        {
          "output_type": "stream",
          "name": "stdout",
          "text": [
            "New Tuple: (57, 75, 80, 87)\n"
          ]
        }
      ],
      "source": [
        "New_Item = 87\n",
        "NewTuple = MyTuple + (New_Item,)\n",
        "print(\"New Tuple:\", NewTuple)"
      ]
    },
    {
      "cell_type": "markdown",
      "id": "3e8fd124",
      "metadata": {
        "id": "3e8fd124"
      },
      "source": [
        "**50-Write a Python program to convert a tuple to a string"
      ]
    },
    {
      "cell_type": "code",
      "execution_count": 72,
      "id": "92a71ddc",
      "metadata": {
        "id": "92a71ddc",
        "colab": {
          "base_uri": "https://localhost:8080/"
        },
        "outputId": "6f01510e-881e-4f46-b08a-db0ffb7c2af1"
      },
      "outputs": [
        {
          "output_type": "stream",
          "name": "stdout",
          "text": [
            "Converted String: Hello\n"
          ]
        }
      ],
      "source": [
        "MyTuple = ('H', 'e', 'l', 'l', 'o')\n",
        "MyString = ''.join(MyTuple)\n",
        "print(\"Converted String:\", MyString)"
      ]
    },
    {
      "cell_type": "markdown",
      "id": "f4f64ef4",
      "metadata": {
        "id": "f4f64ef4"
      },
      "source": [
        "**51-Write a Python program to convert a list to a tuple"
      ]
    },
    {
      "cell_type": "code",
      "execution_count": 74,
      "id": "210d56d3",
      "metadata": {
        "id": "210d56d3",
        "colab": {
          "base_uri": "https://localhost:8080/"
        },
        "outputId": "79cf559d-f3ed-456e-b859-e6f68950c1f7"
      },
      "outputs": [
        {
          "output_type": "stream",
          "name": "stdout",
          "text": [
            "Converted Tuple: (57, 75, 80, 87)\n"
          ]
        }
      ],
      "source": [
        "MyList = [57, 75, 80, 87]\n",
        "MyTuple = tuple(MyList)\n",
        "print(\"Converted Tuple:\", MyTuple )"
      ]
    },
    {
      "cell_type": "markdown",
      "id": "b1e00ef7",
      "metadata": {
        "id": "b1e00ef7"
      },
      "source": [
        "**52-Write a Python program to reverse a tuple"
      ]
    },
    {
      "cell_type": "code",
      "execution_count": 75,
      "id": "f45bfdc7",
      "metadata": {
        "id": "f45bfdc7",
        "colab": {
          "base_uri": "https://localhost:8080/"
        },
        "outputId": "25f243af-6234-44f9-e55f-1c1200559844"
      },
      "outputs": [
        {
          "output_type": "stream",
          "name": "stdout",
          "text": [
            "Reversed Tuple: (87, 80, 75, 57)\n"
          ]
        }
      ],
      "source": [
        "MyTuple = (57, 75, 80, 87)\n",
        "ReversedTuple = MyTuple[::-1]\n",
        "print(\"Reversed Tuple:\", ReversedTuple)"
      ]
    },
    {
      "cell_type": "markdown",
      "id": "3cd347d1",
      "metadata": {
        "id": "3cd347d1"
      },
      "source": [
        "**53-Write a Python program to replace the last value of tuples in a list.\n",
        "Sample list: [(10, 20, 40), (40, 50, 60), (70, 80, 90)]\n",
        "Expected Output: [(10, 20, 100), (40, 50, 100), (70, 80, 100)]"
      ]
    },
    {
      "cell_type": "code",
      "execution_count": 76,
      "id": "3c4a2a4c",
      "metadata": {
        "id": "3c4a2a4c",
        "colab": {
          "base_uri": "https://localhost:8080/"
        },
        "outputId": "04b81ae6-e527-428e-a94e-305dd20ae46f"
      },
      "outputs": [
        {
          "output_type": "stream",
          "name": "stdout",
          "text": [
            "Updated List: [(10, 20, 100), (40, 50, 100), (70, 80, 100)]\n"
          ]
        }
      ],
      "source": [
        "SampleList = [(10, 20, 40), (40, 50, 60), (70, 80, 90)]\n",
        "\n",
        "UpdatedList = [tup[:-1] + (100,) for tup in SampleList]\n",
        "\n",
        "print(\"Updated List:\", UpdatedList )"
      ]
    },
    {
      "cell_type": "markdown",
      "id": "76bb7b39",
      "metadata": {
        "id": "76bb7b39"
      },
      "source": [
        "**54-Write a Python program to convert a given string list to a tuple\n",
        "Original string: python 3.0\n",
        "<class 'str'>\n",
        "Convert the said string to a tuple:\n",
        "('p', 'y', 't', 'h', 'o', 'n', '3', '.', '0')"
      ]
    },
    {
      "cell_type": "code",
      "execution_count": 77,
      "id": "51951937",
      "metadata": {
        "id": "51951937",
        "colab": {
          "base_uri": "https://localhost:8080/"
        },
        "outputId": "99e70d0d-207d-4ec8-eb59-c512c4e5b708"
      },
      "outputs": [
        {
          "output_type": "stream",
          "name": "stdout",
          "text": [
            "Convert the said string to a tuple: ('p', 'y', 't', 'h', 'o', 'n', ' ', '3', '.', '0')\n"
          ]
        }
      ],
      "source": [
        "OriginalString = \"python 3.0\"\n",
        "\n",
        "ResultTuple = tuple(OriginalString)\n",
        "\n",
        "print(\"Convert the said string to a tuple:\", ResultTuple)"
      ]
    },
    {
      "cell_type": "markdown",
      "id": "5a1d5d97",
      "metadata": {
        "id": "5a1d5d97"
      },
      "source": [
        "**55-Write a Python program to calculate the average value of the numbers in a given tuple of tuples"
      ]
    },
    {
      "cell_type": "code",
      "execution_count": 81,
      "id": "834e7992",
      "metadata": {
        "id": "834e7992",
        "colab": {
          "base_uri": "https://localhost:8080/"
        },
        "outputId": "32e3487c-4d3b-4be9-aec8-e97274c7d9c4"
      },
      "outputs": [
        {
          "output_type": "stream",
          "name": "stdout",
          "text": [
            "Average value of the numbers: 51.11\n"
          ]
        }
      ],
      "source": [
        "TupleOfTuples = ((10, 20, 40), (40, 50, 60), (70, 80, 90))\n",
        "AllNumbers = [num for tup in TupleOfTuples for num in tup]\n",
        "Average = sum(AllNumbers) / len(AllNumbers)\n",
        "print(f\"Average value of the numbers: {Average:.2f}\")"
      ]
    },
    {
      "cell_type": "markdown",
      "id": "51edab9c",
      "metadata": {
        "id": "51edab9c"
      },
      "source": [
        "**56-Write a Python program to add member(s) to a set."
      ]
    },
    {
      "cell_type": "code",
      "execution_count": 83,
      "id": "2b65df79",
      "metadata": {
        "id": "2b65df79",
        "colab": {
          "base_uri": "https://localhost:8080/"
        },
        "outputId": "8a25af98-21b1-4a4d-8f44-665017b98b8e"
      },
      "outputs": [
        {
          "output_type": "stream",
          "name": "stdout",
          "text": [
            "Updated Set: {1, 2, 3, 4, 5, 6}\n",
            "Updated Set: {1, 2, 3, 4, 5, 6, 7, 8, 9}\n"
          ]
        }
      ],
      "source": [
        "MySet = {1, 2, 3, 4, 5}\n",
        "\n",
        "MySet.add(6)\n",
        "print(\"Updated Set:\", MySet)\n",
        "\n",
        "MySet.update([7, 8, 9])\n",
        "print(\"Updated Set:\", MySet)"
      ]
    },
    {
      "cell_type": "markdown",
      "id": "965590cc",
      "metadata": {
        "id": "965590cc"
      },
      "source": [
        "**57-Write a Python program to remove an item from a set if it is present in the set."
      ]
    },
    {
      "cell_type": "code",
      "execution_count": 85,
      "id": "866bab28",
      "metadata": {
        "id": "866bab28",
        "colab": {
          "base_uri": "https://localhost:8080/"
        },
        "outputId": "136b6be1-2d7e-4274-9c18-48ab85485af2"
      },
      "outputs": [
        {
          "output_type": "stream",
          "name": "stdout",
          "text": [
            "Item 6 removed successfully.\n",
            "Updated Set: {1, 2, 3, 4, 5, 7, 8, 9}\n"
          ]
        }
      ],
      "source": [
        "ItemToRemove = 6\n",
        "if ItemToRemove in MySet:\n",
        "    MySet.remove(ItemToRemove)\n",
        "    print(f\"Item {ItemToRemove} removed successfully.\")\n",
        "else:\n",
        "    print(f\"Item {ItemToRemove} is not present in the set.\")\n",
        "\n",
        "print(\"Updated Set:\", MySet)"
      ]
    },
    {
      "cell_type": "markdown",
      "id": "2b7cfed1",
      "metadata": {
        "id": "2b7cfed1"
      },
      "source": [
        "**58-Write a Python program to create an intersection,union,difference and symmetric difference of sets"
      ]
    },
    {
      "cell_type": "code",
      "execution_count": 86,
      "id": "7f94b7fe",
      "metadata": {
        "id": "7f94b7fe",
        "colab": {
          "base_uri": "https://localhost:8080/"
        },
        "outputId": "5ad444e1-77e9-41a5-c784-e337343e67a3"
      },
      "outputs": [
        {
          "output_type": "stream",
          "name": "stdout",
          "text": [
            "Intersection: {4, 5}\n",
            "Union: {1, 2, 3, 4, 5, 6, 7, 8}\n",
            "Difference (Set1 - Set2): {1, 2, 3}\n",
            "Symmetric Difference: {1, 2, 3, 6, 7, 8}\n"
          ]
        }
      ],
      "source": [
        "\n",
        "Set1 = {1, 2, 3, 4, 5}\n",
        "Set2 = {4, 5, 6, 7, 8}\n",
        "\n",
        "Intersection = Set1 & Set2\n",
        "\n",
        "Uniion = Set1 | Set2\n",
        "\n",
        "Difference = Set1 - Set2\n",
        "\n",
        "SymmetricDifference = Set1 ^ Set2\n",
        "\n",
        "print(\"Intersection:\", Intersection)\n",
        "print(\"Union:\", Uniion)\n",
        "print(\"Difference (Set1 - Set2):\", Difference)\n",
        "print(\"Symmetric Difference:\", SymmetricDifference)\n"
      ]
    },
    {
      "cell_type": "markdown",
      "id": "b94931e2",
      "metadata": {
        "id": "b94931e2"
      },
      "source": [
        "**59-Write a Python program to find the maximum and minimum values in a set"
      ]
    },
    {
      "cell_type": "code",
      "execution_count": 87,
      "id": "203f9600",
      "metadata": {
        "id": "203f9600",
        "colab": {
          "base_uri": "https://localhost:8080/"
        },
        "outputId": "642c8fd0-5989-489a-9dc1-5b50db25c7d3"
      },
      "outputs": [
        {
          "output_type": "stream",
          "name": "stdout",
          "text": [
            "The Maximum number of list: 358\n",
            "The Maximum number of list: 40\n"
          ]
        }
      ],
      "source": [
        "numbers = {52 , 87 , 54, 57, 90, 358 , 40 ,75}\n",
        "print(f\"The Maximum number of list: {max(numbers)}\")\n",
        "print(f\"The Maximum number of list: {min(numbers)}\")"
      ]
    },
    {
      "cell_type": "markdown",
      "id": "255fd554",
      "metadata": {
        "id": "255fd554"
      },
      "source": [
        "**60- Write a Python program that finds all pairs of elements in a list whose sum is equal to a given value."
      ]
    },
    {
      "cell_type": "code",
      "execution_count": 2,
      "id": "c2d94e1f",
      "metadata": {
        "id": "c2d94e1f",
        "colab": {
          "base_uri": "https://localhost:8080/"
        },
        "outputId": "56157e07-0e82-45db-8b8d-b9c6d7396f9c"
      },
      "outputs": [
        {
          "output_type": "stream",
          "name": "stdout",
          "text": [
            "Pairs with sum equal to 15 : [(10, 5), (3, 12), (7, 8), (2, 13), (6, 9), (4, 11), (1, 14)]\n"
          ]
        }
      ],
      "source": [
        "MyList = [10, 15, 3, 7, 8, 2, 6, 4, 1, 9, 12, 14, 5, 11, 20, 18, 17, 13, 16, 19]\n",
        "TargetSum = 15\n",
        "pairs = []\n",
        "for i in range(len(MyList)):\n",
        "    for j in range(i+1, len(MyList)):\n",
        "        if MyList[i] + MyList[j] == TargetSum:\n",
        "            pairs.append((MyList[i], MyList[j]))\n",
        "print(\"Pairs with sum equal to\", TargetSum, \":\", pairs)"
      ]
    }
  ],
  "metadata": {
    "kernelspec": {
      "display_name": "Python 3 (ipykernel)",
      "language": "python",
      "name": "python3"
    },
    "language_info": {
      "codemirror_mode": {
        "name": "ipython",
        "version": 3
      },
      "file_extension": ".py",
      "mimetype": "text/x-python",
      "name": "python",
      "nbconvert_exporter": "python",
      "pygments_lexer": "ipython3",
      "version": "3.9.7"
    },
    "colab": {
      "provenance": []
    }
  },
  "nbformat": 4,
  "nbformat_minor": 5
}