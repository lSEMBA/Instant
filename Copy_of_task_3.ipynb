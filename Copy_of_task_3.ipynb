{
  "cells": [
    {
      "cell_type": "markdown",
      "id": "ff38aad7",
      "metadata": {
        "id": "ff38aad7"
      },
      "source": [
        "### 1-Write a Python program that takes two numbers as user input and performs addition on them."
      ]
    },
    {
      "cell_type": "code",
      "execution_count": null,
      "id": "91696b79",
      "metadata": {
        "id": "91696b79",
        "colab": {
          "base_uri": "https://localhost:8080/"
        },
        "outputId": "13c50e40-6abf-4ef1-9826-e19037deee29"
      },
      "outputs": [
        {
          "output_type": "stream",
          "name": "stdout",
          "text": [
            "Enter 1st Number: 663.5462364646\n",
            "Enter 2st Number: 461.44646548476545\n",
            "This 1124.992701949 is the sum of the two numbers.\n"
          ]
        }
      ],
      "source": [
        "x = float(input(\"Enter 1st Number: \"))\n",
        "y = float(input(\"Enter 2st Number: \"))\n",
        "print(f\"This {(x+y):.9f} is the sum of the two numbers.\")"
      ]
    },
    {
      "cell_type": "markdown",
      "id": "360854ff",
      "metadata": {
        "id": "360854ff"
      },
      "source": [
        "### 2-Write a Python program that takes an integer as input and checks if it is even or odd. Print \"Even\" if the number is divisible by 2, otherwise print \"Odd\"."
      ]
    },
    {
      "cell_type": "code",
      "execution_count": null,
      "id": "24616afc",
      "metadata": {
        "id": "24616afc",
        "colab": {
          "base_uri": "https://localhost:8080/"
        },
        "outputId": "ea050e73-a0a2-4320-cc1d-7776c3931658"
      },
      "outputs": [
        {
          "output_type": "stream",
          "name": "stdout",
          "text": [
            "Enter a number integer: 4\n",
            "This 4 is even\n"
          ]
        }
      ],
      "source": [
        "integer = int(input(\"Enter a number integer: \"))\n",
        "\n",
        "if integer % 2 == 0:\n",
        "  print(f\"This {integer} is even\")\n",
        "else :\n",
        "  print(f\"This {integer} is odd\")"
      ]
    },
    {
      "cell_type": "markdown",
      "source": [
        "### 3-Write a Python program that prints all the even numbers from 1 to 20 using a for loop"
      ],
      "metadata": {
        "id": "GB3VnpKXLChG"
      },
      "id": "GB3VnpKXLChG"
    },
    {
      "cell_type": "code",
      "execution_count": null,
      "id": "df43b7f5",
      "metadata": {
        "ExecuteTime": {
          "end_time": "2023-07-23T21:36:51.373589Z",
          "start_time": "2023-07-23T21:36:51.365580Z"
        },
        "id": "df43b7f5",
        "colab": {
          "base_uri": "https://localhost:8080/"
        },
        "outputId": "1ff4f18a-1f41-422e-fafa-7c82ad714886"
      },
      "outputs": [
        {
          "output_type": "stream",
          "name": "stdout",
          "text": [
            "These [2, 4, 6, 8, 10, 12, 14, 16, 18, 20] are all the even numbers from 1 to 20.\n"
          ]
        }
      ],
      "source": [
        "num = []\n",
        "for i in range(1,21):\n",
        "  if i % 2 == 0:\n",
        "    num.append(i)\n",
        "\n",
        "print(f\"These {num} are all the even numbers from 1 to 20.\")\n"
      ]
    },
    {
      "cell_type": "markdown",
      "id": "2d66bab2",
      "metadata": {
        "id": "2d66bab2"
      },
      "source": [
        "### 4-Write a Python function that takes a string as input and counts the number of vowels (a, e, i, o, u) in the string. The function should return the count"
      ]
    },
    {
      "cell_type": "code",
      "execution_count": null,
      "id": "a37a84fd",
      "metadata": {
        "ExecuteTime": {
          "end_time": "2023-07-23T21:45:58.522044Z",
          "start_time": "2023-07-23T21:45:58.514370Z"
        },
        "id": "a37a84fd",
        "colab": {
          "base_uri": "https://localhost:8080/"
        },
        "outputId": "50f081a7-32eb-4d48-c8c3-39ad526fd264"
      },
      "outputs": [
        {
          "output_type": "stream",
          "name": "stdout",
          "text": [
            "Enter any string: Salah Bairouti\n",
            "7\n"
          ]
        }
      ],
      "source": [
        "string = input(\"Enter any string: \")\n",
        "num = 0\n",
        "for i in range(len(string)):\n",
        "  if string[i] == 'a' or string[i] == 'e' or string[i] == 'i' or string[i] == 'o' or string[i] == 'u' :\n",
        "    num += 1\n",
        "print(num)"
      ]
    },
    {
      "cell_type": "markdown",
      "id": "a9a0ea06",
      "metadata": {
        "id": "a9a0ea06"
      },
      "source": [
        "### 5-Write a Python program that creates a list of numbers from 1 to 10. Use a loop to iterate over the list and print each number of power 2."
      ]
    },
    {
      "cell_type": "code",
      "execution_count": 1,
      "id": "6fa658cf",
      "metadata": {
        "ExecuteTime": {
          "end_time": "2023-07-23T21:48:02.328880Z",
          "start_time": "2023-07-23T21:48:02.314313Z"
        },
        "id": "6fa658cf",
        "colab": {
          "base_uri": "https://localhost:8080/"
        },
        "outputId": "873c4f94-c8c9-42f8-926c-5242eb602725"
      },
      "outputs": [
        {
          "output_type": "stream",
          "name": "stdout",
          "text": [
            "1^2 = 1\n",
            "2^2 = 4\n",
            "3^2 = 9\n",
            "4^2 = 16\n",
            "5^2 = 25\n",
            "6^2 = 36\n",
            "7^2 = 49\n",
            "8^2 = 64\n",
            "9^2 = 81\n",
            "10^2 = 100\n"
          ]
        }
      ],
      "source": [
        "for i in range(1,11): print(f\"{i}^2 = {i*i}\")"
      ]
    },
    {
      "cell_type": "markdown",
      "id": "430c9df9",
      "metadata": {
        "id": "430c9df9"
      },
      "source": [
        "### 6-Write a Python program that calculates the average grade for a student based on their scores in different subjects. The program should include the following steps:\n",
        "\n",
        "#### 1-Create variables to store the student's name, subject names, and corresponding scores. Initialize the variables with sample data.\n",
        "\n",
        "#### 2-Prompt the user to enter the student's name and assign it to the name variable.\n",
        "\n",
        "#### 3-Use a loop to prompt the user to enter the subject names and corresponding scores. Store the subject names in a list and the scores in another list.\n",
        "\n",
        "#### 4-After collecting the scores, calculate the average grade by summing up all the scores and dividing by the total number of subjects.\n",
        "\n",
        "#### 5-Check if the average grade is above a 70, print a congratulatory message. Otherwise, print an encouragement message."
      ]
    },
    {
      "cell_type": "code",
      "execution_count": null,
      "id": "e0254271",
      "metadata": {
        "ExecuteTime": {
          "end_time": "2023-07-15T16:16:17.066909Z",
          "start_time": "2023-07-15T16:16:07.636799Z"
        },
        "id": "e0254271",
        "colab": {
          "base_uri": "https://localhost:8080/"
        },
        "outputId": "d778f873-da99-4e7b-8984-c140938f438f"
      },
      "outputs": [
        {
          "output_type": "stream",
          "name": "stdout",
          "text": [
            "Enter the student name: Salah Bairouti\n",
            "Enter 1st Name course: cor1\n",
            "Enter 1st Grade course: 100\n",
            "If you want to continue, enter 1. Otherwise, the average score will be printed: 0\n",
            "Enter 2st Name course: cor2\n",
            "Enter 2st Grade course: 95\n",
            "If you want to continue, enter 1. Otherwise, the average score will be printed: 0\n",
            "Enter 3st Name course: cor3\n",
            "Enter 3st Grade course: 70\n",
            "If you want to continue, enter 1. Otherwise, the average score will be printed: 1\n",
            "Congratulations, the student: Salah Bairouti has achieved an average score higher than 70, specifically he achieved 88.33\n"
          ]
        }
      ],
      "source": [
        "name = input(\"Enter the student name: \")\n",
        "Courses = []\n",
        "Grades = []\n",
        "x = 0\n",
        "average = 0\n",
        "while True:\n",
        "  x += 1\n",
        "  Course = input(f\"Enter {x}st Name course: \")\n",
        "  Grade = int(input(f\"Enter {x}st Grade course: \"))\n",
        "  Courses.append(Course)\n",
        "  Grades.append(Grade)\n",
        "  exit = input(\"If you want to continue, enter 1. Otherwise, the average score will be printed: \")\n",
        "  if exit == '1':\n",
        "    break\n",
        "\n",
        "average = sum(Grades)/len(Courses)\n",
        "if average > 70:\n",
        "  print(f\"Congratulations, the student: {name} has achieved an average score higher than 70, specifically he achieved {average:.2f}\")"
      ]
    },
    {
      "cell_type": "markdown",
      "id": "ae9df360",
      "metadata": {
        "id": "ae9df360"
      },
      "source": [
        "### 7-Find Common Elements\n",
        "### Write a Python function that takes two lists as input and returns a new list containing the common elements present in both lists."
      ]
    },
    {
      "cell_type": "code",
      "execution_count": null,
      "id": "d030c3c0",
      "metadata": {
        "ExecuteTime": {
          "end_time": "2023-07-23T22:08:16.794474Z",
          "start_time": "2023-07-23T22:08:16.775639Z"
        },
        "id": "d030c3c0",
        "colab": {
          "base_uri": "https://localhost:8080/"
        },
        "outputId": "70ca9337-0ac8-44ba-cf8a-c5718c6a6e90"
      },
      "outputs": [
        {
          "output_type": "stream",
          "name": "stdout",
          "text": [
            "Enter the first list of numbers, separating each number with a space: 200 7 8 7 5 89 2\n",
            "Enter the second list of numbers, separating each number with a space: 2 58 4 8 7 89 2\n",
            "['7', '8', '89', '2']\n"
          ]
        }
      ],
      "source": [
        "L1 = input(\"Enter the first list of numbers, separating each number with a space: \").split()\n",
        "L2 = input(\"Enter the second list of numbers, separating each number with a space: \").split()\n",
        "sim = []\n",
        "for i in L1:\n",
        "  if i in L2 and i not in sim:\n",
        "    sim.append(i)\n",
        "print(sim)"
      ]
    },
    {
      "cell_type": "markdown",
      "id": "9a2f34cb",
      "metadata": {
        "id": "9a2f34cb"
      },
      "source": [
        "### 8-Write a Python function that takes a list of numbers and an element to remove from the list."
      ]
    },
    {
      "cell_type": "code",
      "execution_count": null,
      "id": "78de9fe8",
      "metadata": {
        "ExecuteTime": {
          "end_time": "2023-07-23T22:21:36.514592Z",
          "start_time": "2023-07-23T22:21:36.505437Z"
        },
        "id": "78de9fe8",
        "colab": {
          "base_uri": "https://localhost:8080/"
        },
        "outputId": "a0db0899-1031-4de3-865c-48f061623f43"
      },
      "outputs": [
        {
          "output_type": "stream",
          "name": "stdout",
          "text": [
            "This [1, 2, 3, 4, 8, 9, 10] is a list of current numbers.\n",
            "Enter the list of numbers you want to delete (enter 00 to stop):\n",
            "2\n",
            "5\n",
            "7\n",
            "8\n",
            "10\n",
            "00\n",
            "[1, 3, 4, 9]\n"
          ]
        }
      ],
      "source": [
        "list1 = [ 1, 2, 3, 4, 8, 9, 10]\n",
        "print(f\"This {list1} is a list of current numbers.\")\n",
        "print(\"Enter the list of numbers you want to delete (enter 00 to stop):\")\n",
        "while True:\n",
        "  x = input()\n",
        "  if x == \"00\":\n",
        "    break\n",
        "  x = int(x)\n",
        "  if x in list1:\n",
        "    list1.remove(x)\n",
        "\n",
        "print(list1)"
      ]
    },
    {
      "cell_type": "code",
      "execution_count": null,
      "id": "d80aa813",
      "metadata": {
        "ExecuteTime": {
          "end_time": "2023-07-23T22:21:37.220121Z",
          "start_time": "2023-07-23T22:21:37.215586Z"
        },
        "id": "d80aa813",
        "colab": {
          "base_uri": "https://localhost:8080/"
        },
        "outputId": "b48ac098-a3f5-44ae-fe44-cf06632c68b3"
      },
      "outputs": [
        {
          "output_type": "stream",
          "name": "stdout",
          "text": [
            "This [1, 2, 3, 4, 8, 9, 10] is a list of current numbers.\n",
            "Enter the list of numbers you want to delete (enter 00 to stop):\n",
            "2\n",
            "5\n",
            "7\n",
            "8\n",
            "10\n",
            "00\n",
            "[1, 3, 4, 9]\n"
          ]
        }
      ],
      "source": [
        "list1 = [ 1, 2, 3, 4, 8, 9, 10]\n",
        "print(f\"This {list1} is a list of current numbers.\")\n",
        "print(\"Enter the list of numbers you want to delete (enter 00 to stop):\")\n",
        "while True:\n",
        "  x = input()\n",
        "  if x == \"00\":\n",
        "    break\n",
        "  x = int(x)\n",
        "  i = 0\n",
        "  if x in list1:\n",
        "    while i < len(list1):\n",
        "      if x == list1[i]:\n",
        "        list1.pop(i)\n",
        "      else:\n",
        "        i += 1\n",
        "print(list1)"
      ]
    },
    {
      "cell_type": "code",
      "execution_count": null,
      "id": "3feaf264",
      "metadata": {
        "ExecuteTime": {
          "end_time": "2023-07-23T22:21:38.480436Z",
          "start_time": "2023-07-23T22:21:38.464574Z"
        },
        "id": "3feaf264",
        "colab": {
          "base_uri": "https://localhost:8080/"
        },
        "outputId": "2f508455-ccb8-4209-ab0d-b83caf46e69a"
      },
      "outputs": [
        {
          "output_type": "stream",
          "name": "stdout",
          "text": [
            "This [1, 2, 3, 4, 8, 9, 10, 11, 12, 13, 14, 15] is a list of current numbers.\n",
            "Enter the list of numbers you want to delete (enter 00 to stop):\n",
            "1\n",
            "2\n",
            "5\n",
            "15\n",
            "10\n",
            "14\n",
            "12\n",
            "11\n",
            "00\n",
            "[3, 4, 8, 9, 13]\n"
          ]
        }
      ],
      "source": [
        "list1 = [ 1, 2, 3, 4, 8, 9, 10, 11, 12, 13, 14, 15]\n",
        "print(f\"This {list1} is a list of current numbers.\")\n",
        "print(\"Enter the list of numbers you want to delete (enter 00 to stop):\")\n",
        "while True:\n",
        "  x = input()\n",
        "  if x == \"00\":\n",
        "    break\n",
        "  x = int(x)\n",
        "  if x in list1:\n",
        "    for i in range(len(list1)-1 ,-1,-1):\n",
        "      if x == list1[i]:\n",
        "        list1.pop(i)\n",
        "\n",
        "print(list1)"
      ]
    },
    {
      "cell_type": "markdown",
      "id": "f1658f3b",
      "metadata": {
        "ExecuteTime": {
          "end_time": "2023-07-23T22:18:08.230185Z",
          "start_time": "2023-07-23T22:18:08.224220Z"
        },
        "id": "f1658f3b"
      },
      "source": [
        "### 9-Given 4 numbers A, B, C and D. Print the last 2 digits from their Multiplication.\n",
        "### Example :\n",
        "### the Multiplication of 4 numbers is 5 * 7 * 2 * 4 = 280 so the answer will be the last 2 digits which are 80."
      ]
    },
    {
      "cell_type": "code",
      "execution_count": null,
      "id": "e3acbe03",
      "metadata": {
        "ExecuteTime": {
          "end_time": "2023-07-23T22:26:11.183016Z",
          "start_time": "2023-07-23T22:26:03.981069Z"
        },
        "id": "e3acbe03",
        "colab": {
          "base_uri": "https://localhost:8080/"
        },
        "outputId": "cb713a59-9724-4265-ac29-ffd373cca8a5"
      },
      "outputs": [
        {
          "output_type": "stream",
          "name": "stdout",
          "text": [
            "Enter four numbers separated by a space: 5 7 2 4\n",
            "80\n"
          ]
        }
      ],
      "source": [
        "x = input(\"Enter four numbers separated by a space: \").split()\n",
        "Ans = 1\n",
        "for i in range(len(x)):\n",
        "  Ans *= int(x[i])\n",
        "Ans %= 100\n",
        "print(f\"{Ans}\")"
      ]
    },
    {
      "cell_type": "markdown",
      "id": "d7ab15bb",
      "metadata": {
        "ExecuteTime": {
          "end_time": "2023-07-23T22:26:14.833712Z",
          "start_time": "2023-07-23T22:26:14.819130Z"
        },
        "id": "d7ab15bb"
      },
      "source": [
        "### 10- Given a number X. Determine if the number is prime or not"
      ]
    },
    {
      "cell_type": "code",
      "execution_count": null,
      "id": "59b27f0a",
      "metadata": {
        "ExecuteTime": {
          "end_time": "2023-07-23T22:35:25.933766Z",
          "start_time": "2023-07-23T22:35:24.168681Z"
        },
        "id": "59b27f0a",
        "colab": {
          "base_uri": "https://localhost:8080/"
        },
        "outputId": "c57a4442-f1a2-42ce-8176-ad3be0146630"
      },
      "outputs": [
        {
          "output_type": "stream",
          "name": "stdout",
          "text": [
            "Enter Number: 10\n",
            "10 is not prime\n"
          ]
        }
      ],
      "source": [
        "num = int(input(\"Enter Number: \"))\n",
        "if num > 1 :\n",
        "    for i in range(2, num) :\n",
        "        if num % i == 0 :\n",
        "            print(f\"{num} is not prime\")\n",
        "            break\n",
        "    else :\n",
        "        print(f\"{num} is prime\")\n",
        "else :\n",
        "    print(f\"{num} is not prime\")"
      ]
    },
    {
      "cell_type": "markdown",
      "id": "e1d1dcf9",
      "metadata": {
        "id": "e1d1dcf9"
      },
      "source": [
        "### 11- Given a number N and a list A of N numbers. Determine if the number X exists in array A or not and print its position (0-index)."
      ]
    },
    {
      "cell_type": "code",
      "execution_count": null,
      "id": "2b002b0e",
      "metadata": {
        "ExecuteTime": {
          "end_time": "2023-07-23T22:53:41.474835Z",
          "start_time": "2023-07-23T22:53:41.458293Z"
        },
        "id": "2b002b0e",
        "colab": {
          "base_uri": "https://localhost:8080/"
        },
        "outputId": "6fc6b626-42d7-497e-b4e2-1b3e4d502d6e"
      },
      "outputs": [
        {
          "output_type": "stream",
          "name": "stdout",
          "text": [
            "Enter the number of numbers in the list: 4\n",
            "Enter the number 1st: 1\n",
            "Enter the number 2st: 2\n",
            "Enter the number 3st: 8\n",
            "Enter the number 4st: 7\n",
            "Enter the number you are looking for in the list: 8\n",
            "The number is in Index-2\n"
          ]
        }
      ],
      "source": [
        "N = int(input(\"Enter the number of numbers in the list: \"))\n",
        "A = []\n",
        "for i in range(N):\n",
        "  S = int(input(f\"Enter the number {i+1}st: \"))\n",
        "  A.append(S)\n",
        "X = int(input(\"Enter the number you are looking for in the list: \"))\n",
        "if X in A :\n",
        "  for i in range(len(A)):\n",
        "    if X == A[i]:\n",
        "      print(f\"The number is in Index-{i}\")\n",
        "      break\n",
        "else:\n",
        "  print(\"The number is not in the list.\")\n"
      ]
    },
    {
      "cell_type": "markdown",
      "id": "f2ec854b",
      "metadata": {
        "id": "f2ec854b"
      },
      "source": [
        "### 12- Given a number N and a list A of N numbers. Determine if the array is lucky or not.\n",
        "\n",
        "#### Note: the array is lucky if the frequency (number of occurrence) of the minimum element is odd."
      ]
    },
    {
      "cell_type": "code",
      "execution_count": null,
      "id": "0c4f7f4b",
      "metadata": {
        "ExecuteTime": {
          "end_time": "2023-07-23T23:02:02.490192Z",
          "start_time": "2023-07-23T23:02:02.476874Z"
        },
        "id": "0c4f7f4b",
        "colab": {
          "base_uri": "https://localhost:8080/"
        },
        "outputId": "fa7bdde8-9aed-453f-94e8-bb9bd9a1c9ff"
      },
      "outputs": [
        {
          "output_type": "stream",
          "name": "stdout",
          "text": [
            "Enter the number of numbers in the list: 5\n",
            "Enter the number 1st: 1\n",
            "Enter the number 2st: 1\n",
            "Enter the number 3st: 5\n",
            "Enter the number 4st: 1\n",
            "Enter the number 5st: 2\n",
            "1 Lucky\n"
          ]
        }
      ],
      "source": [
        "N = int(input(\"Enter the number of numbers in the list: \"))\n",
        "A = []\n",
        "for i in range(N):\n",
        "  S = int(input(f\"Enter the number {i+1}st: \"))\n",
        "  A.append(S)\n",
        "R = min(A)\n",
        "if A.count(R) % 2 == 1:\n",
        "  print(f\"{R} Lucky\")\n",
        "else:\n",
        "  print(f\"{R} UnLucky\")\n"
      ]
    },
    {
      "cell_type": "markdown",
      "id": "e1ce1ae5",
      "metadata": {
        "id": "e1ce1ae5"
      },
      "source": [
        "### 13-Given a number N and a list A of N numbers. Print the array after doing the following operations:\n",
        "\n",
        "#### Find minimum number in these numbers.\n",
        "#### Find maximum number in these numbers.\n",
        "##### Swap minimum number with maximum number."
      ]
    },
    {
      "cell_type": "code",
      "execution_count": null,
      "id": "e0d6e639",
      "metadata": {
        "ExecuteTime": {
          "end_time": "2023-07-23T23:10:04.293733Z",
          "start_time": "2023-07-23T23:10:04.280256Z"
        },
        "id": "e0d6e639",
        "colab": {
          "base_uri": "https://localhost:8080/"
        },
        "outputId": "0259af28-34d8-480c-8993-3580afe04172"
      },
      "outputs": [
        {
          "output_type": "stream",
          "name": "stdout",
          "text": [
            "Enter the number of numbers in the list: 5\n",
            "Enter the number 1st: 2\n",
            "Enter the number 2st: 1\n",
            "Enter the number 3st: 5\n",
            "Enter the number 4st: 7\n",
            "Enter the number 5st: 4\n",
            "This is the new list: [2, 7, 5, 1, 4]\n"
          ]
        }
      ],
      "source": [
        "          A = []\n",
        "for i in range(N):\n",
        "  S = int(input(f\"Enter the number {i+1}st: \"))\n",
        "  A.append(S)\n",
        "min_index = A.index(min(A))\n",
        "max_index = A.index(max(A))\n",
        "A[min_index], A[max_index] = A[max_index], A[min_index]\n",
        "print(f\"This is the new list: {A}\")"
      ]
    },
    {
      "cell_type": "markdown",
      "id": "9eb8e9c5",
      "metadata": {
        "ExecuteTime": {
          "end_time": "2023-07-23T23:10:06.436833Z",
          "start_time": "2023-07-23T23:10:06.422086Z"
        },
        "id": "9eb8e9c5"
      },
      "source": [
        "### 14-Given a number N and an array A of N numbers. Print the lowest number and its position.\n",
        "\n",
        "### Note: if there are more than one answer print first one's position."
      ]
    },
    {
      "cell_type": "code",
      "execution_count": null,
      "id": "018e01c8",
      "metadata": {
        "ExecuteTime": {
          "end_time": "2023-07-23T23:20:38.498527Z",
          "start_time": "2023-07-23T23:20:38.490451Z"
        },
        "id": "018e01c8",
        "colab": {
          "base_uri": "https://localhost:8080/"
        },
        "outputId": "11052aea-c0d6-4af1-843e-ba1c55c0093b"
      },
      "outputs": [
        {
          "output_type": "stream",
          "name": "stdout",
          "text": [
            "Enter the number of numbers in the list: 5\n",
            "Enter the number 1st: 4\n",
            "Enter the number 2st: 2\n",
            "Enter the number 3st: 7\n",
            "Enter the number 4st: 2\n",
            "Enter the number 5st: 2\n",
            "The first smallest number in the list is 2 at index 1.\n"
          ]
        }
      ],
      "source": [
        "N = int(input(\"Enter the number of numbers in the list: \"))\n",
        "A = []\n",
        "for i in range(N):\n",
        "  S = int(input(f\"Enter the number {i+1}st: \"))\n",
        "  A.append(S)\n",
        "min_index = A.index(min(A))\n",
        "\n",
        "print(f\"The first smallest number in the list is {A[min_index]} at index {min_index}.\")\n"
      ]
    },
    {
      "cell_type": "markdown",
      "id": "f35d3427",
      "metadata": {
        "ExecuteTime": {
          "end_time": "2023-07-23T23:20:55.880128Z",
          "start_time": "2023-07-23T23:20:55.861804Z"
        },
        "id": "f35d3427"
      },
      "source": [
        "### 15-Given a number N and an array A of N numbers. Print the numbers after sorting them"
      ]
    },
    {
      "cell_type": "code",
      "execution_count": null,
      "id": "a6e0edd4",
      "metadata": {
        "ExecuteTime": {
          "end_time": "2023-07-23T23:46:13.340484Z",
          "start_time": "2023-07-23T23:46:13.324468Z"
        },
        "id": "a6e0edd4",
        "colab": {
          "base_uri": "https://localhost:8080/"
        },
        "outputId": "ec2be008-f816-4dc0-ea8e-727b04f2644e"
      },
      "outputs": [
        {
          "output_type": "stream",
          "name": "stdout",
          "text": [
            "Enter the number of numbers in the list: 5\n",
            "Enter the number 1st: 2\n",
            "Enter the number 2st: 1\n",
            "Enter the number 3st: 4\n",
            "Enter the number 4st: 7\n",
            "Enter the number 5st: 3\n",
            "[1, 2, 3, 4, 7]\n"
          ]
        }
      ],
      "source": [
        "N = int(input(\"Enter the number of numbers in the list: \"))\n",
        "A = []\n",
        "for i in range(N):\n",
        "  S = int(input(f\"Enter the number {i+1}st: \"))\n",
        "  A.append(S)\n",
        "\n",
        "A.sort()\n",
        "print(A)"
      ]
    },
    {
      "cell_type": "markdown",
      "id": "a172f354",
      "metadata": {
        "ExecuteTime": {
          "end_time": "2023-07-23T23:46:15.127981Z",
          "start_time": "2023-07-23T23:46:15.108766Z"
        },
        "id": "a172f354"
      },
      "source": [
        "### 16- Write a Python program to remove spaces from a given string"
      ]
    },
    {
      "cell_type": "code",
      "execution_count": null,
      "id": "36d3569d",
      "metadata": {
        "ExecuteTime": {
          "end_time": "2023-07-23T23:50:06.443640Z",
          "start_time": "2023-07-23T23:50:01.592919Z"
        },
        "id": "36d3569d",
        "colab": {
          "base_uri": "https://localhost:8080/"
        },
        "outputId": "dfff0e00-926e-446a-f125-b020ca6ed598"
      },
      "outputs": [
        {
          "output_type": "stream",
          "name": "stdout",
          "text": [
            "Write any string for remove spaces: Write a Python program to remove spaces from a given string\n",
            "WriteaPythonprogramtoremovespacesfromagivenstring\n"
          ]
        }
      ],
      "source": [
        "any_string = input(\"Write any string for remove spaces: \").replace(\" \",\"\")\n",
        "print(any_string)"
      ]
    },
    {
      "cell_type": "markdown",
      "id": "a5470d49",
      "metadata": {
        "id": "a5470d49"
      },
      "source": [
        "### 17-write a Python program to swap first and last element of any list."
      ]
    },
    {
      "cell_type": "code",
      "execution_count": null,
      "id": "9d73887b",
      "metadata": {
        "ExecuteTime": {
          "end_time": "2023-07-23T23:50:59.283429Z",
          "start_time": "2023-07-23T23:50:59.272096Z"
        },
        "id": "9d73887b",
        "colab": {
          "base_uri": "https://localhost:8080/"
        },
        "outputId": "f0d99044-0d9a-4c3e-b5a6-013a193b14b5"
      },
      "outputs": [
        {
          "output_type": "stream",
          "name": "stdout",
          "text": [
            "Enter the number of numbers in the list: 5\n",
            "Enter the number 1st: 5\n",
            "Enter the number 2st: 2\n",
            "Enter the number 3st: 4\n",
            "Enter the number 4st: 5\n",
            "Enter the number 5st: 7\n",
            "[7, 2, 4, 5, 5]\n"
          ]
        }
      ],
      "source": [
        "N = int(input(\"Enter the number of numbers in the list: \"))\n",
        "A = []\n",
        "for i in range(N):\n",
        "  S = int(input(f\"Enter the number {i+1}st: \"))\n",
        "  A.append(S)\n",
        "A[0], A[-1] = A[-1], A[0]\n",
        "print(A)"
      ]
    },
    {
      "cell_type": "markdown",
      "source": [
        "# **Write a Python Program to Find HCF.**\n",
        "## Highest Common Factor(HCF): HCF, or Highest Common Factor, is the largest positive integer that divides two or more numbers without leaving a remainder. Formula: For two numbers a and b, the HCF can be found using the formula:\n",
        "\n",
        "** HCF(𝑎, 𝑏) = GCD(𝑎, 𝑏)**\n",
        "For more than two numbers, you can find the HCF by taking the GCD of pairs of numbers at a time until you reach the last pair.\n",
        "\n",
        "# **Note: GCD stands for Greatest Common Divisor, use function.**\n"
      ],
      "metadata": {
        "id": "iS6JiE4uPbyH"
      },
      "id": "iS6JiE4uPbyH"
    },
    {
      "cell_type": "code",
      "source": [
        "N = int(input(\"Enter the number of numbers in the list: \"))\n",
        "A = []\n",
        "for i in range(N):\n",
        "  S = int(input(f\"Enter the number {i+1}st: \"))\n",
        "  A.append(S)\n",
        "HCF = A[0]\n",
        "for i in A[1:]:\n",
        "  while i:\n",
        "    hcf = HCF\n",
        "    HCF = i\n",
        "    i =  hcf % i\n",
        "print(HCF)"
      ],
      "metadata": {
        "id": "9qUfYf0wPnvt",
        "colab": {
          "base_uri": "https://localhost:8080/"
        },
        "outputId": "1a377e0e-05b0-4e7a-ad8b-4ccb90bbd9c9"
      },
      "id": "9qUfYf0wPnvt",
      "execution_count": null,
      "outputs": [
        {
          "output_type": "stream",
          "name": "stdout",
          "text": [
            "Enter the number of numbers in the list: 4\n",
            "Enter the number 1st: 20\n",
            "Enter the number 2st: 12\n",
            "Enter the number 3st: 16\n",
            "Enter the number 4st: 8\n",
            "4\n"
          ]
        }
      ]
    }
  ],
  "metadata": {
    "kernelspec": {
      "display_name": "Python 3 (ipykernel)",
      "language": "python",
      "name": "python3"
    },
    "language_info": {
      "codemirror_mode": {
        "name": "ipython",
        "version": 3
      },
      "file_extension": ".py",
      "mimetype": "text/x-python",
      "name": "python",
      "nbconvert_exporter": "python",
      "pygments_lexer": "ipython3",
      "version": "3.9.12"
    },
    "colab": {
      "provenance": []
    }
  },
  "nbformat": 4,
  "nbformat_minor": 5
}